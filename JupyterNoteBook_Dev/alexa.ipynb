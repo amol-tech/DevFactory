{
 "cells": [
  {
   "cell_type": "code",
   "execution_count": null,
   "metadata": {},
   "outputs": [],
   "source": [
    "import os\n",
    "import shutil\n",
    "import zipfile\n",
    "\n",
    "global_packages = '\\\\\\\\pacman\\packages'\n",
    "dir_workspace = os.path.join(os.getcwd(),'workspace_alexa')\n",
    "dir_release = 'E:\\Release'\n",
    "specific_package = None\n",
    "#specific_package = 'D:\\DUMP\\JK\\Installation_Studio_8.8.0.004.zip'"
   ]
  },
  {
   "cell_type": "code",
   "execution_count": null,
   "metadata": {},
   "outputs": [],
   "source": [
    "def get_build_package(pkg_name,major_version,version):\n",
    "    dir_packages = global_packages+os.path.sep+pkg_name\n",
    "    dict_version_name = {f.replace(major_version+'_',''):f for f in os.listdir(dir_packages) if major_version in f}\n",
    "    latest_pkg_version = dict_version_name[max(dict_version_name.keys())] if version == None else dict_version_name[version]\n",
    "    latest_pkg_dir = os.path.join(dir_packages,latest_pkg_version+os.path.sep+'00001')\n",
    "    latest_pkg = [os.path.join(latest_pkg_dir,f) for f in os.listdir(latest_pkg_dir)][0]\n",
    "    return latest_pkg"
   ]
  },
  {
   "cell_type": "code",
   "execution_count": null,
   "metadata": {},
   "outputs": [],
   "source": [
    "def configure_connection(dir_install,major_version,config_name):\n",
    "    file_conn = os.path.join(dir_workspace,major_version+'_'+config_name)\n",
    "    shutil.copy(file_conn,os.path.join(dir_install,'workspace'))\n",
    "    file_conn_target = os.path.join(os.path.join(dir_install,'workspace'),major_version+'_'+config_name)\n",
    "    file_conn_target_ren = os.path.join(os.path.join(dir_install,'workspace'),config_name)\n",
    "    os.rename(file_conn_target,file_conn_target_ren)\n",
    "    return"
   ]
  },
  {
   "cell_type": "code",
   "execution_count": null,
   "metadata": {},
   "outputs": [],
   "source": [
    "def do_install_latest_package(package_name,install_name,major_version,version):\n",
    "    if(specific_package != None and package_name in specific_package):\n",
    "        file_package = specific_package\n",
    "    else:\n",
    "        file_package = get_build_package(package_name,major_version,version)\n",
    "    \n",
    "    # Package Extraction\n",
    "    dir_extract = os.path.join(dir_workspace,'extract')\n",
    "    if os.path.exists(dir_extract) and os.path.isdir(dir_extract):\n",
    "        shutil.rmtree(dir_extract)\n",
    "    os.mkdir(dir_extract) \n",
    "    \n",
    "    shutil.copy(file_package,dir_extract)\n",
    "    \n",
    "    file_package_target = os.path.join(dir_extract,os.path.basename(file_package))\n",
    "    with zipfile.ZipFile(file_package_target, 'r') as zip_ref:\n",
    "        zip_ref.extractall(dir_extract)\n",
    "          \n",
    "    # Maintain Old Installation\n",
    "    dir_release_version = os.path.join(dir_release,major_version)\n",
    "    dir_install_old = os.path.join(dir_release_version,install_name+'_old')\n",
    "    if os.path.exists(dir_install_old) and os.path.isdir(dir_install_old):\n",
    "        shutil.rmtree(dir_install_old)\n",
    "    dir_install = os.path.join(dir_release_version,install_name)\n",
    "    if os.path.exists(dir_install) and os.path.isdir(dir_install):\n",
    "        os.rename(dir_install,dir_install_old)\n",
    "    \n",
    "    #Installation\n",
    "    file_package_in = os.path.join(dir_extract,install_name+'.zip')\n",
    "    with zipfile.ZipFile(file_package_in, 'r') as zip_ref:\n",
    "        zip_ref.extractall(dir_install)\n",
    "    os.mkdir(os.path.join(dir_install,'workspace'))\n",
    "    shutil.copy(os.path.join(dir_workspace,'ojdbc8.jar'),os.path.join(dir_install,'externals'))\n",
    "        \n",
    "    print('Successfully installed '+os.path.basename(file_package))\n",
    "    return dir_install"
   ]
  },
  {
   "cell_type": "code",
   "execution_count": null,
   "metadata": {},
   "outputs": [],
   "source": [
    "def do_install_mapper(major_version,version=None):\n",
    "    dir_install = do_install_latest_package('GSO_Mapper','GSOMapper',major_version,version)\n",
    "    configure_connection(dir_install,major_version,'connectionDetail.xml')\n",
    "    return"
   ]
  },
  {
   "cell_type": "code",
   "execution_count": null,
   "metadata": {},
   "outputs": [],
   "source": [
    "def do_install_istudio(major_version,version=None):\n",
    "    dir_install = do_install_latest_package('Installation_Studio','InstallationStudio',major_version,version)\n",
    "    configure_connection(dir_install,major_version,'RepositoryConnectionProfiles.xml')\n",
    "    return"
   ]
  },
  {
   "cell_type": "code",
   "execution_count": 5,
   "metadata": {},
   "outputs": [
    {
     "name": "stdout",
     "output_type": "stream",
     "text": [
      "89990\n"
     ]
    }
   ],
   "source": [
    "from lxml import etree as ET\n",
    "import os\n",
    "import yaml\n",
    "dir_workspace = os.path.join(os.getcwd(),'workspace_alexa')\n",
    "\n",
    "# method to get path of element\n",
    "def iterate_for_path(elm,path):\n",
    "    path = '.'+elm.attrib['name']+path\n",
    "    if (elm.getparent() != None and 'name' in elm.getparent().attrib):\n",
    "        return iterate_for_path(elm.getparent(),path)\n",
    "    return path\n",
    "\n",
    "# Generate path : multiplicity dictinary\n",
    "file_name_cs = os.path.join(dir_workspace,'mapping.meta')\n",
    "tree_meta = ET.parse(file_name_cs)\n",
    "list_elm_part = [elm_part for elm_part in tree_meta.findall('.//participants') if elm_part.attrib['type'] == 'Field']\n",
    "dict_data = {iterate_for_path(elm,'')[1:]:elm.attrib['multiple'] == 'true' for elm in list_elm_part}\n",
    "\n",
    "# Dump multiplicity meta in yaml\n",
    "with open(os.path.join(dir_workspace,'data.yml'), 'w') as outfile:\n",
    "    yaml.dump(dict_data, outfile, default_flow_style=False)\n",
    "    \n",
    "print(len(dict_data))"
   ]
  },
  {
   "cell_type": "code",
   "execution_count": null,
   "metadata": {},
   "outputs": [],
   "source": [
    "def test_path(path):\n",
    "    path = 'xxx'\n",
    "    return path\n",
    "p = test_path('abc')\n",
    "p"
   ]
  }
 ],
 "metadata": {
  "kernelspec": {
   "display_name": "Python 3",
   "language": "python",
   "name": "python3"
  },
  "language_info": {
   "codemirror_mode": {
    "name": "ipython",
    "version": 3
   },
   "file_extension": ".py",
   "mimetype": "text/x-python",
   "name": "python",
   "nbconvert_exporter": "python",
   "pygments_lexer": "ipython3",
   "version": "3.7.1rc1"
  }
 },
 "nbformat": 4,
 "nbformat_minor": 4
}
