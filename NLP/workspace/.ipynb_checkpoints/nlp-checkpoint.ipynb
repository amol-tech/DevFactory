{
 "cells": [
  {
   "cell_type": "code",
   "execution_count": null,
   "id": "f69fe454-f1cd-4ee6-9610-e029ba954f20",
   "metadata": {},
   "outputs": [],
   "source": [
    "import nltk\n",
    "nltk.download()"
   ]
  },
  {
   "cell_type": "code",
   "execution_count": null,
   "id": "a8c32c4f-1d12-4ce0-8f95-e177619e764e",
   "metadata": {},
   "outputs": [],
   "source": [
    "from nltk.tokenize import sent_tokenize,word_tokenize\n",
    "data = ''' This is first line. this is a second line. this is a third line; this is a continue of 3'''\n",
    "sent_tokens = sent_tokenize(data)\n",
    "word_tokens = word_tokenize(data)\n",
    "print(sent_tokens)\n",
    "print(word_tokens)"
   ]
  },
  {
   "cell_type": "code",
   "execution_count": null,
   "id": "0e891cb4-421f-4d32-969d-20aeb71c3e9a",
   "metadata": {},
   "outputs": [],
   "source": [
    "from nltk.tokenize import sent_tokenize,word_tokenize,RegexpTokenizer,BlanklineTokenizer\n",
    "import os\n",
    "file = open('samples/nlp_desc.txt',mode='r')\n",
    "data = file.read()\n",
    "sent_tokens = sent_tokenize(data)\n",
    "word_tokens = word_tokenize(data)\n",
    "line_tokens = BlanklineTokenizer().tokenize(data)\n",
    "regx_tokenizer = RegexpTokenizer('[A-Z]\\w+')\n",
    "cap_words = regx_tokenizer.tokenize(data)\n",
    "print(len(sent_tokens))\n",
    "print(len(line_tokens))\n",
    "print(len(word_tokens))\n",
    "print(cap_words)"
   ]
  },
  {
   "cell_type": "code",
   "execution_count": 6,
   "id": "61cd7b1b-7ada-4063-88ff-54f312563ab2",
   "metadata": {},
   "outputs": [
    {
     "name": "stdout",
     "output_type": "stream",
     "text": [
      "[('the', 9), ('language', 7), ('.', 6), (',', 6), ('of', 6), ('processing', 5), ('and', 5), ('is', 4), ('natural', 4), ('a', 4)]\n",
      "5\n"
     ]
    }
   ],
   "source": [
    "from nltk.tokenize import word_tokenize\n",
    "from nltk.probability import FreqDist\n",
    "import os\n",
    "file = open('samples/nlp_desc.txt',mode='r')\n",
    "data = file.read()\n",
    "word_tokens = word_tokenize(data)\n",
    "f_dist = FreqDist(word_tokens)\n",
    "print(f_dist.most_common(10))\n",
    "print(f_dist['and'])"
   ]
  },
  {
   "cell_type": "code",
   "execution_count": 4,
   "id": "81531846-4ff2-41e0-aa00-8d5dc2f04087",
   "metadata": {},
   "outputs": [
    {
     "data": {
      "text/plain": [
       "[('the', 9),\n",
       " ('language', 7),\n",
       " ('.', 6),\n",
       " (',', 6),\n",
       " ('of', 6),\n",
       " ('processing', 5),\n",
       " ('and', 5),\n",
       " ('is', 4),\n",
       " ('natural', 4),\n",
       " ('a', 4)]"
      ]
     },
     "execution_count": 4,
     "metadata": {},
     "output_type": "execute_result"
    }
   ],
   "source": [
    "f_dist.plot(20)"
   ]
  },
  {
   "cell_type": "code",
   "execution_count": 20,
   "id": "6b91ba72-7f19-483a-ae55-03fad68e8ed5",
   "metadata": {},
   "outputs": [
    {
     "data": {
      "text/plain": [
       "[('language', 7),\n",
       " ('processing', 5),\n",
       " ('natural', 4),\n",
       " ('computers', 3),\n",
       " ('documents', 3),\n",
       " ('done', 2),\n",
       " ('human', 2),\n",
       " ('brain', 2),\n",
       " ('computer', 2),\n",
       " ('The', 2)]"
      ]
     },
     "execution_count": 20,
     "metadata": {},
     "output_type": "execute_result"
    }
   ],
   "source": [
    "from nltk.tokenize import word_tokenize\n",
    "from nltk.probability import FreqDist\n",
    "from nltk.corpus import stopwords\n",
    "import string\n",
    "import os\n",
    "file = open('samples/nlp_desc.txt',mode='r')\n",
    "data = file.read()\n",
    "word_tokens = word_tokenize(data)\n",
    "filter_tokens = [w for w in word_tokens if w not in stopwords.words('english') and w not in string.punctuation]\n",
    "f_dist = FreqDist(filter_tokens)\n",
    "f_dist.most_common(10)\n"
   ]
  }
 ],
 "metadata": {
  "kernelspec": {
   "display_name": "Python 3 (ipykernel)",
   "language": "python",
   "name": "python3"
  },
  "language_info": {
   "codemirror_mode": {
    "name": "ipython",
    "version": 3
   },
   "file_extension": ".py",
   "mimetype": "text/x-python",
   "name": "python",
   "nbconvert_exporter": "python",
   "pygments_lexer": "ipython3",
   "version": "3.7.1rc1"
  }
 },
 "nbformat": 4,
 "nbformat_minor": 5
}
