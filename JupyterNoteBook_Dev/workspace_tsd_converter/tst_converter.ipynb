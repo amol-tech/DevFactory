{
 "cells": [
  {
   "cell_type": "code",
   "execution_count": 1,
   "metadata": {},
   "outputs": [],
   "source": [
    "from lxml import etree as ET\n",
    "import os\n",
    "\n",
    "# To get the signature of method name from tsd file Ex. SetEngineConfiguration[2][string,string]\n",
    "def get_method_name(elm_method):\n",
    "    dataTypes = '['+ ','.join([elm_para.attrib['dataType'].lower() for elm_para in elm_method.findall('.//Parameter')])+']'\n",
    "    return elm_method.attrib['methodName'] + '[' + str(len(elm_method.findall('.//Parameter'))) +']'+dataTypes\n",
    "\n",
    "# To get the signature of method name from java doc \n",
    "def get_method_impl_name(elm_step):\n",
    "    dataTypes = '['+ ','.join([elm_para.attrib['format'].lower() for elm_para in elm_step.findall('.//UiParameter')])+']'\n",
    "    return elm_step.attrib['stepName'] + '[' + str(len(elm_step.findall('.//UiParameter'))) +']'+dataTypes\n",
    "\n",
    "\n",
    "def convert(file_jdoc,file_tsd):\n",
    "    if not(os.path.exists(file_jdoc)):\n",
    "        print('File not found '+file_jdoc)\n",
    "        return\n",
    "       \n",
    "    if not(os.path.exists(file_tsd)):\n",
    "        print('File not found '+file_tsd)\n",
    "        return\n",
    "    \n",
    "    tree_jdoc = ET.parse(file_jdoc)\n",
    "    tree_tsd = ET.parse(file_tsd)\n",
    "    # Dict of all method signature and actual element\n",
    "    dict_method_elm  = {get_method_name(elm):elm for elm in tree_jdoc.findall('.//Method')}\n",
    "\n",
    "    # Iterate all method elemnent in tsd and match the signature with jova doc and if found then set the parameter name as per java doc\n",
    "    list_missed_method = []\n",
    "    for elm_step in tree_tsd.findall('.//UiTestStep'):\n",
    "        method_impl_name = get_method_impl_name(elm_step)\n",
    "        if(method_impl_name in dict_method_elm):\n",
    "            list_method_params = dict_method_elm[method_impl_name].findall('.//Parameter')\n",
    "            list_step_params = elm_step.findall('.//UiParameter')\n",
    "            for i in range(0,len(list_step_params)):\n",
    "                elm_m_param = list_method_params[i]\n",
    "                elm_s_param = list_step_params[i]\n",
    "                elm_s_param.attrib['name'] = elm_m_param.attrib['parameterName']\n",
    "        else:\n",
    "            list_missed_method.append(method_impl_name)\n",
    "    set_missed_methods = set(list_missed_method)\n",
    "    \n",
    "    with open(file_tsd, \"wb\") as f:\n",
    "        f.write(ET.tostring(tree_tsd, pretty_print = True))\n",
    "    print('Test Definition converted successfully!')\n",
    "    \n",
    "    if len(set_missed_methods) > 0 :\n",
    "        with open('converter.log', 'w') as f:\n",
    "            f.write('Following methods are not present in java doc\\n')\n",
    "            for item in set_missed_methods:\n",
    "                f.write(\"%s\\n\" % item)\n",
    "            "
   ]
  },
  {
   "cell_type": "code",
   "execution_count": 2,
   "metadata": {},
   "outputs": [
    {
     "name": "stdout",
     "output_type": "stream",
     "text": [
      "Test Definition converted successfully!\n"
     ]
    }
   ],
   "source": [
    "dir_workspace = os.getcwd()\n",
    "file_jdoc = os.path.join(dir_workspace,'javadoc.xml')\n",
    "file_tsd = os.path.join(dir_workspace,'EndToEndInstrumentFlow.tsd')\n",
    "convert(file_jdoc,file_tsd)\n"
   ]
  }
 ],
 "metadata": {
  "kernelspec": {
   "display_name": "Python 3",
   "language": "python",
   "name": "python3"
  },
  "language_info": {
   "codemirror_mode": {
    "name": "ipython",
    "version": 3
   },
   "file_extension": ".py",
   "mimetype": "text/x-python",
   "name": "python",
   "nbconvert_exporter": "python",
   "pygments_lexer": "ipython3",
   "version": "3.7.1rc1"
  }
 },
 "nbformat": 4,
 "nbformat_minor": 4
}
