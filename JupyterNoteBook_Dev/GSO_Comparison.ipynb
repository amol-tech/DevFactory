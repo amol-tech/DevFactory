{
 "cells": [
  {
   "cell_type": "markdown",
   "metadata": {},
   "source": [
    "# GSO Comparison ##"
   ]
  },
  {
   "cell_type": "code",
   "execution_count": 1,
   "metadata": {},
   "outputs": [
    {
     "name": "stdout",
     "output_type": "stream",
     "text": [
      "D:\\GIT_Repositories\\DevFactory\\JupyterNoteBook_Dev\\workspace_GSO_Comparison\n"
     ]
    }
   ],
   "source": [
    "#!pip install lxml\n",
    "#!pip install datetime\n",
    "from lxml import etree as ET\n",
    "from datetime import datetime\n",
    "import pandas as pd\n",
    "import os\n",
    "\n",
    "dir_workspace = os.path.join(os.getcwd(),'workspace_GSO_Comparison')\n",
    "print(dir_workspace)"
   ]
  },
  {
   "cell_type": "markdown",
   "metadata": {},
   "source": [
    "#### Function : get_single_element_dictionary  ####\n",
    "* To get the dictionary of given element string with ID as KEY"
   ]
  },
  {
   "cell_type": "code",
   "execution_count": 2,
   "metadata": {},
   "outputs": [],
   "source": [
    "def get_single_element_dictionary(tree, main_element):\n",
    "    dict_single = {}\n",
    "    for sub_element in tree.findall(\".//\" + main_element):\n",
    "        element_attrib = sub_element.attrib\n",
    "        dict_single[element_attrib.get(\"id\")] = element_attrib\n",
    "    return dict_single"
   ]
  },
  {
   "cell_type": "markdown",
   "metadata": {},
   "source": [
    "#### Function : get_gso_dictionary  ####\n",
    "* To get the dictionary of all elements with element as KEY"
   ]
  },
  {
   "cell_type": "code",
   "execution_count": 3,
   "metadata": {},
   "outputs": [],
   "source": [
    "def get_gso_dictionary(filename, list_elements):\n",
    "    dict_gso = {}    \n",
    "    tree = ET.parse(filename)\n",
    "    root = tree.getroot()\n",
    "    if root.tag == \"entities\":\n",
    "        for single_element in list_elements:\n",
    "            dict_gso[single_element] = get_single_element_dictionary(tree, single_element)\n",
    "    return dict_gso"
   ]
  },
  {
   "cell_type": "code",
   "execution_count": 4,
   "metadata": {},
   "outputs": [],
   "source": [
    "def convert_lxml_to_dict(lxml_dict):\n",
    "    dict_out = {}\n",
    "    for key in lxml_dict:\n",
    "        dict_out[key] = lxml_dict[key]\n",
    "    return dict_out"
   ]
  },
  {
   "cell_type": "markdown",
   "metadata": {},
   "source": [
    "#### Function : get_missing_value  ####\n",
    "* To get the missing key value from both the gso dictionary after comparing both"
   ]
  },
  {
   "cell_type": "code",
   "execution_count": 5,
   "metadata": {},
   "outputs": [],
   "source": [
    "def compare(dict_gso_1, dict_gso_2):\n",
    "    list_result = []\n",
    "    list_summary = []\n",
    "    for (dict1_key,dict1_value), (dict2_key,dict2_value) in zip(dict_gso_1.items(), dict_gso_2.items()):\n",
    "       \n",
    "        set_id = set(dict1_value)-set(dict2_value)\n",
    "        list_left_extra = [convert_lxml_to_dict(dict1_value[x]) for x in set_id]\n",
    "        set_id = set(dict2_value)-set(dict1_value)\n",
    "        list_right_extra = [convert_lxml_to_dict(dict2_value[x]) for x in set_id]\n",
    "         \n",
    "        dict_result = {}\n",
    "        dict_result['ELEMENT'] = dict1_key\n",
    "        dict_result['LEFT_EXTRA'] = list_left_extra\n",
    "        dict_result['RIGHT_EXTRA'] = list_right_extra\n",
    "        list_result.append(dict_result)\n",
    "        \n",
    "        dict_summary = {}\n",
    "        dict_summary['ELEMENT'] = dict1_key\n",
    "        dict_summary['LEFT_EXTRA_COUNT'] = len(list_left_extra)\n",
    "        dict_summary['RIGHT_EXTRA_COUNT'] = len(list_right_extra)\n",
    "        list_summary.append(dict_summary)\n",
    "        \n",
    "    return list_summary,list_result"
   ]
  },
  {
   "cell_type": "markdown",
   "metadata": {},
   "source": [
    "#### Main ####"
   ]
  },
  {
   "cell_type": "code",
   "execution_count": 6,
   "metadata": {
    "scrolled": true
   },
   "outputs": [
    {
     "name": "stdout",
     "output_type": "stream",
     "text": [
      "## INFO : List of Elements :- \n",
      "entiyType, beField, dataGroup, relation, occurrence, mapping, businessEntity, completeness, entityRelation, naturalKey, orderByParticipant\n",
      "## INFO : Generating dictionary for D:\\GIT_Repositories\\DevFactory\\JupyterNoteBook_Dev\\workspace_GSO_Comparison\\GSO Repository.gso\n",
      "## INFO : Successfully generated dictionary in 2.184968 seconds\n",
      "## INFO : Generating dictionary for D:\\GIT_Repositories\\DevFactory\\JupyterNoteBook_Dev\\workspace_GSO_Comparison\\GSO Repository1.gso\n",
      "## INFO : Successfully generated dictionary in 2.124806 seconds\n"
     ]
    }
   ],
   "source": [
    "list_elements = ['entiyType','beField','dataGroup','relation','occurrence','mapping','businessEntity',\n",
    "                 'completeness','entityRelation','naturalKey','orderByParticipant']\n",
    "file_name_1 = os.path.join(dir_workspace,'GSO Repository.gso')\n",
    "file_name_2 = os.path.join(dir_workspace,'GSO Repository1.gso')\n",
    "\n",
    "print(\"## INFO : List of Elements :- \")\n",
    "print(*list_elements, sep = \", \")\n",
    "\n",
    "print(\"## INFO : Generating dictionary for \" + file_name_1)\n",
    "before = datetime.now()\n",
    "dict_gso_1 = get_gso_dictionary (file_name_1,list_elements)\n",
    "print(\"## INFO : Successfully generated dictionary in \" + str((datetime.now()-before).total_seconds()) + \" seconds\")\n",
    "\n",
    "print(\"## INFO : Generating dictionary for \" + file_name_2)\n",
    "before = datetime.now()\n",
    "dict_gso_2 = get_gso_dictionary (file_name_2,list_elements)\n",
    "print(\"## INFO : Successfully generated dictionary in \" + str((datetime.now()-before).total_seconds()) + \" seconds\")\n",
    "\n"
   ]
  },
  {
   "cell_type": "code",
   "execution_count": 7,
   "metadata": {},
   "outputs": [
    {
     "data": {
      "text/html": [
       "<div>\n",
       "<style scoped>\n",
       "    .dataframe tbody tr th:only-of-type {\n",
       "        vertical-align: middle;\n",
       "    }\n",
       "\n",
       "    .dataframe tbody tr th {\n",
       "        vertical-align: top;\n",
       "    }\n",
       "\n",
       "    .dataframe thead th {\n",
       "        text-align: right;\n",
       "    }\n",
       "</style>\n",
       "<table border=\"1\" class=\"dataframe\">\n",
       "  <thead>\n",
       "    <tr style=\"text-align: right;\">\n",
       "      <th></th>\n",
       "      <th>ELEMENT</th>\n",
       "      <th>LEFT_EXTRA_COUNT</th>\n",
       "      <th>RIGHT_EXTRA_COUNT</th>\n",
       "    </tr>\n",
       "  </thead>\n",
       "  <tbody>\n",
       "    <tr>\n",
       "      <th>0</th>\n",
       "      <td>entiyType</td>\n",
       "      <td>1</td>\n",
       "      <td>1</td>\n",
       "    </tr>\n",
       "    <tr>\n",
       "      <th>1</th>\n",
       "      <td>beField</td>\n",
       "      <td>0</td>\n",
       "      <td>1</td>\n",
       "    </tr>\n",
       "    <tr>\n",
       "      <th>2</th>\n",
       "      <td>dataGroup</td>\n",
       "      <td>0</td>\n",
       "      <td>0</td>\n",
       "    </tr>\n",
       "    <tr>\n",
       "      <th>3</th>\n",
       "      <td>relation</td>\n",
       "      <td>0</td>\n",
       "      <td>0</td>\n",
       "    </tr>\n",
       "    <tr>\n",
       "      <th>4</th>\n",
       "      <td>occurrence</td>\n",
       "      <td>0</td>\n",
       "      <td>0</td>\n",
       "    </tr>\n",
       "    <tr>\n",
       "      <th>5</th>\n",
       "      <td>mapping</td>\n",
       "      <td>1</td>\n",
       "      <td>0</td>\n",
       "    </tr>\n",
       "    <tr>\n",
       "      <th>6</th>\n",
       "      <td>businessEntity</td>\n",
       "      <td>0</td>\n",
       "      <td>0</td>\n",
       "    </tr>\n",
       "    <tr>\n",
       "      <th>7</th>\n",
       "      <td>completeness</td>\n",
       "      <td>0</td>\n",
       "      <td>0</td>\n",
       "    </tr>\n",
       "    <tr>\n",
       "      <th>8</th>\n",
       "      <td>entityRelation</td>\n",
       "      <td>0</td>\n",
       "      <td>0</td>\n",
       "    </tr>\n",
       "    <tr>\n",
       "      <th>9</th>\n",
       "      <td>naturalKey</td>\n",
       "      <td>0</td>\n",
       "      <td>0</td>\n",
       "    </tr>\n",
       "    <tr>\n",
       "      <th>10</th>\n",
       "      <td>orderByParticipant</td>\n",
       "      <td>113</td>\n",
       "      <td>0</td>\n",
       "    </tr>\n",
       "  </tbody>\n",
       "</table>\n",
       "</div>"
      ],
      "text/plain": [
       "               ELEMENT  LEFT_EXTRA_COUNT  RIGHT_EXTRA_COUNT\n",
       "0            entiyType                 1                  1\n",
       "1              beField                 0                  1\n",
       "2            dataGroup                 0                  0\n",
       "3             relation                 0                  0\n",
       "4           occurrence                 0                  0\n",
       "5              mapping                 1                  0\n",
       "6       businessEntity                 0                  0\n",
       "7         completeness                 0                  0\n",
       "8       entityRelation                 0                  0\n",
       "9           naturalKey                 0                  0\n",
       "10  orderByParticipant               113                  0"
      ]
     },
     "execution_count": 7,
     "metadata": {},
     "output_type": "execute_result"
    }
   ],
   "source": [
    "list_summary,list_result = compare(dict_gso_1,dict_gso_2)\n",
    "df = pd.DataFrame(list_summary)\n",
    "df"
   ]
  },
  {
   "cell_type": "code",
   "execution_count": 8,
   "metadata": {},
   "outputs": [
    {
     "data": {
      "text/html": [
       "<div>\n",
       "<style scoped>\n",
       "    .dataframe tbody tr th:only-of-type {\n",
       "        vertical-align: middle;\n",
       "    }\n",
       "\n",
       "    .dataframe tbody tr th {\n",
       "        vertical-align: top;\n",
       "    }\n",
       "\n",
       "    .dataframe thead th {\n",
       "        text-align: right;\n",
       "    }\n",
       "</style>\n",
       "<table border=\"1\" class=\"dataframe\">\n",
       "  <thead>\n",
       "    <tr style=\"text-align: right;\">\n",
       "      <th></th>\n",
       "      <th>desc</th>\n",
       "      <th>id</th>\n",
       "      <th>mainTable</th>\n",
       "      <th>name</th>\n",
       "      <th>nameSpace</th>\n",
       "    </tr>\n",
       "  </thead>\n",
       "  <tbody>\n",
       "    <tr>\n",
       "      <th>0</th>\n",
       "      <td>Generated default type for table FT_T_ACCT</td>\n",
       "      <td>BGACCT000000000X</td>\n",
       "      <td>FT_T_ACCT</td>\n",
       "      <td>Account</td>\n",
       "      <td>GSC</td>\n",
       "    </tr>\n",
       "  </tbody>\n",
       "</table>\n",
       "</div>"
      ],
      "text/plain": [
       "                                         desc                id  mainTable  \\\n",
       "0  Generated default type for table FT_T_ACCT  BGACCT000000000X  FT_T_ACCT   \n",
       "\n",
       "      name nameSpace  \n",
       "0  Account       GSC  "
      ]
     },
     "execution_count": 8,
     "metadata": {},
     "output_type": "execute_result"
    }
   ],
   "source": [
    "entity_type =  [x for x in list_result if x['ELEMENT'] == 'entiyType'][0]\n",
    "df1 = pd.DataFrame(entity_type['LEFT_EXTRA'])\n",
    "df1\n"
   ]
  },
  {
   "cell_type": "code",
   "execution_count": 9,
   "metadata": {},
   "outputs": [
    {
     "data": {
      "text/html": [
       "<div>\n",
       "<style scoped>\n",
       "    .dataframe tbody tr th:only-of-type {\n",
       "        vertical-align: middle;\n",
       "    }\n",
       "\n",
       "    .dataframe tbody tr th {\n",
       "        vertical-align: top;\n",
       "    }\n",
       "\n",
       "    .dataframe thead th {\n",
       "        text-align: right;\n",
       "    }\n",
       "</style>\n",
       "<table border=\"1\" class=\"dataframe\">\n",
       "  <thead>\n",
       "    <tr style=\"text-align: right;\">\n",
       "      <th></th>\n",
       "      <th>desc</th>\n",
       "      <th>id</th>\n",
       "      <th>mainTable</th>\n",
       "      <th>name</th>\n",
       "      <th>nameSpace</th>\n",
       "    </tr>\n",
       "  </thead>\n",
       "  <tbody>\n",
       "    <tr>\n",
       "      <th>0</th>\n",
       "      <td>Generated default type for table FT_T_ACCT</td>\n",
       "      <td>BGACCT000000000Y</td>\n",
       "      <td>FT_T_ACCT</td>\n",
       "      <td>Account</td>\n",
       "      <td>GSC</td>\n",
       "    </tr>\n",
       "  </tbody>\n",
       "</table>\n",
       "</div>"
      ],
      "text/plain": [
       "                                         desc                id  mainTable  \\\n",
       "0  Generated default type for table FT_T_ACCT  BGACCT000000000Y  FT_T_ACCT   \n",
       "\n",
       "      name nameSpace  \n",
       "0  Account       GSC  "
      ]
     },
     "execution_count": 9,
     "metadata": {},
     "output_type": "execute_result"
    }
   ],
   "source": [
    "df2 = pd.DataFrame(entity_type['RIGHT_EXTRA'])\n",
    "df2"
   ]
  }
 ],
 "metadata": {
  "kernelspec": {
   "display_name": "Python 3",
   "language": "python",
   "name": "python3"
  },
  "language_info": {
   "codemirror_mode": {
    "name": "ipython",
    "version": 3
   },
   "file_extension": ".py",
   "mimetype": "text/x-python",
   "name": "python",
   "nbconvert_exporter": "python",
   "pygments_lexer": "ipython3",
   "version": "3.7.3"
  }
 },
 "nbformat": 4,
 "nbformat_minor": 4
}
