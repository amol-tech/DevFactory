{
 "cells": [
  {
   "cell_type": "markdown",
   "metadata": {},
   "source": [
    "<h1><center>Jupyter Widgets</center></h1>\n",
    "<h4>Sample Widgets</h4>\n",
    "<ul>\n",
    "    <li>Layout Widgets : Box</li>\n",
    "    <li>Tree</li>\n",
    "    <li>Table</li>\n",
    "</ul>\n",
    "<br>\n",
    "<a>https://ipywidgets.readthedocs.io/en/latest/examples/Widget%20List.html</a>"
   ]
  },
  {
   "cell_type": "code",
   "execution_count": null,
   "metadata": {},
   "outputs": [],
   "source": [
    "#!pip install ipywidgets\n",
    "#!pip install ipytree\n",
    "import ipywidgets as widgets\n",
    "import pkg_resources\n",
    "version  = pkg_resources.get_distribution(\"ipywidgets\").version\n",
    "print('Current ipywidgets module version is : '+version+', required version will be greater than 7.5.2')\n",
    "print('If not fullfilled then pip uninstall ipywidgets and install it again')\n",
    "from ipytree import Tree, Node\n",
    "from ipywidgets import interact, interactive, fixed, interact_manual, GridspecLayout, Layout, HBox, VBox"
   ]
  },
  {
   "cell_type": "code",
   "execution_count": null,
   "metadata": {},
   "outputs": [],
   "source": [
    "%%html\n",
    "<style>\n",
    ".lbl_bg{\n",
    "    width:auto;\n",
    "    background-color:yellow;\n",
    "}\n",
    ".box_style{\n",
    "    width:40%;\n",
    "    border : 2px solid red;\n",
    "    height: auto;\n",
    "    background-color:lightgray;\n",
    "}\n",
    "</style>"
   ]
  },
  {
   "cell_type": "code",
   "execution_count": null,
   "metadata": {},
   "outputs": [],
   "source": [
    "items = [widgets.Label('Label : '+str(i)) for i in range(4)]\n",
    "left_box = widgets.VBox([items[0], items[1]])\n",
    "left_box.layout.width = '50%'\n",
    "left_box.layout.border='solid 1px'\n",
    "left_box.layout.margin = '1px'\n",
    "left_box.add_class(\"box_style\")\n",
    "right_box = widgets.VBox([items[2], items[3]])\n",
    "right_box.layout.width = '50%'\n",
    "right_box.layout.border='solid 1px'\n",
    "main_box = widgets.HBox([left_box, right_box])\n",
    "main_box"
   ]
  },
  {
   "cell_type": "code",
   "execution_count": null,
   "metadata": {},
   "outputs": [],
   "source": [
    "from ipywidgets import AppLayout, Button, Layout\n",
    "\n",
    "data_input_style = \"<style>.data_input input { background-color:#D0F0D0 !important; }</style>\"\n",
    "items = [widgets.Label('Label : '+str(i)) for i in range(4)]\n",
    "left_box = widgets.VBox([items[0], items[1]],background_color='gray')\n",
    "\n",
    "def create_expanded_button(description, button_style):\n",
    "    return Button(description=description, button_style=button_style, layout=Layout(height='auto', width='auto'))\n",
    "\n",
    "header_button = create_expanded_button('Header', 'success')\n",
    "left_button = create_expanded_button('Left', 'info')\n",
    "center_button = create_expanded_button('Center', 'warning')\n",
    "right_button = create_expanded_button('Right', 'info')\n",
    "footer_button = create_expanded_button('Footer', 'success')\n",
    "\n",
    "AppLayout(header=header_button,\n",
    "          left_sidebar=left_box,\n",
    "          center=center_button,\n",
    "          footer=footer_button)"
   ]
  },
  {
   "cell_type": "code",
   "execution_count": null,
   "metadata": {},
   "outputs": [],
   "source": [
    "a = widgets.Dropdown(options=['USA', 'Pakistan', 'India', 'China', 'Sri Lanka'], value=  'USA', description='Country:')\n",
    "a"
   ]
  },
  {
   "cell_type": "code",
   "execution_count": null,
   "metadata": {},
   "outputs": [],
   "source": [
    "widgets.Text(placeholder='Type Here', description='Address:', disabled=False)"
   ]
  },
  {
   "cell_type": "code",
   "execution_count": null,
   "metadata": {},
   "outputs": [],
   "source": [
    "widgets.IntProgress( value=7, min=0, max=10, step=1,description='Progress:', bar_style='info',orientation='horizontal')"
   ]
  },
  {
   "cell_type": "code",
   "execution_count": null,
   "metadata": {},
   "outputs": [],
   "source": [
    "tree5 = Tree()\n",
    "\n",
    "tree5.add_node(Node(\"root\", icon=\"archive\", icon_style=\"warning\"))\n",
    "tree5.add_node(Node(\"media\", icon=\"info\", icon_style=\"info\"))\n",
    "tree5.add_node(Node(\"local\", icon=\"warning\", icon_style=\"success\"))\n",
    "tree5.add_node(Node(\"home\", \n",
    "                    [Node(\"Desktop\", [Node(\"File1\", icon=\"copy\", icon_style=\"warning\"), \n",
    "                                      Node(\"File2\", icon=\"plus\", icon_style=\"success\")], icon=\"save\", icon_style=\"info\"), \n",
    "                     Node(\"Documents\", icon=\"cut\", icon_style=\"danger\")], icon=\"home\", icon_style=\"success\"))\n",
    "\n",
    "tree5"
   ]
  },
  {
   "cell_type": "code",
   "execution_count": null,
   "metadata": {},
   "outputs": [],
   "source": [
    "def f(x):\n",
    "    return x\n",
    "s = interact(f, x=10);\n",
    "print(s)"
   ]
  },
  {
   "cell_type": "code",
   "execution_count": null,
   "metadata": {},
   "outputs": [],
   "source": [
    "tab_names = ['Input','Mapping','Output'] \n",
    "tabs = widgets.Tab()\n",
    "i = 0\n",
    "for name in tab_names:\n",
    "    tabs.set_title(i,name)\n",
    "    i = i + 1\n",
    "tabs\n"
   ]
  },
  {
   "cell_type": "code",
   "execution_count": null,
   "metadata": {},
   "outputs": [],
   "source": [
    "widget_file_upload = widgets.FileUpload(\n",
    "    accept = '',  # Accepted file extension e.g. '.txt', '.pdf', 'image/*', 'image/*,.pdf'\n",
    "    multiple = False,  # True to accept multiple files upload else False\n",
    "    description = 'Upload File'\n",
    ")\n",
    "widget_file_upload.layout.width = '50%'\n",
    "widget_file_upload"
   ]
  },
  {
   "cell_type": "code",
   "execution_count": null,
   "metadata": {},
   "outputs": [],
   "source": [
    "d = {'Entities': []}\n",
    "#d = {}\n",
    "#d = {'a':'abc'}\n",
    "(len(d) == 1 and list(d.keys())[0] != 'Entities') or len(d) > 1"
   ]
  },
  {
   "cell_type": "code",
   "execution_count": null,
   "metadata": {},
   "outputs": [],
   "source": [
    "import pandas as pd\n",
    "\n",
    "dict_1 = {}\n",
    "dict_1['name'] = 'BBGlobalEquity'\n",
    "dict_1['BB'] = 10\n",
    "dict_1['Reuters'] = 2\n",
    "\n",
    "dict_2 = {}\n",
    "dict_2['name'] = 'BBGeneric'\n",
    "dict_2['BB'] = 5\n",
    "dict_2['Reuters'] = 1\n",
    "\n",
    "list_dict = []\n",
    "list_dict.append(dict_1)\n",
    "list_dict.append(dict_2)\n",
    "\n",
    "df_final = pd.DataFrame(list_dict)\n",
    "\n",
    "df_final.to_csv('data.csv',index=False)\n",
    "df_final"
   ]
  },
  {
   "cell_type": "code",
   "execution_count": 1,
   "metadata": {},
   "outputs": [
    {
     "data": {
      "application/vnd.jupyter.widget-view+json": {
       "model_id": "2f481cebc45a44cc86f0cd9c75bf9aa1",
       "version_major": 2,
       "version_minor": 0
      },
      "text/plain": [
       "Tree(nodes=(Node(name='Node1'), Node(name='Node2'), Node(name='Node3')))"
      ]
     },
     "metadata": {},
     "output_type": "display_data"
    }
   ],
   "source": [
    "from ipytree import Tree, Node\n",
    "tree=Tree()\n",
    "\n",
    "tree.add_node(Node(\"Node1\"))\n",
    "tree.add_node(Node(\"Node2\"))\n",
    "tree.add_node(Node(\"Node3\"))\n",
    "\n",
    "display(tree)"
   ]
  }
 ],
 "metadata": {
  "kernelspec": {
   "display_name": "Python 3",
   "language": "python",
   "name": "python3"
  },
  "language_info": {
   "codemirror_mode": {
    "name": "ipython",
    "version": 3
   },
   "file_extension": ".py",
   "mimetype": "text/x-python",
   "name": "python",
   "nbconvert_exporter": "python",
   "pygments_lexer": "ipython3",
   "version": "3.7.1rc1"
  }
 },
 "nbformat": 4,
 "nbformat_minor": 4
}
