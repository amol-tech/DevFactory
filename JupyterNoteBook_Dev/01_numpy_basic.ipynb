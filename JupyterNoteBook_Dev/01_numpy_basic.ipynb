{
 "cells": [
  {
   "cell_type": "markdown",
   "metadata": {},
   "source": [
    "# **** Numpy Array Introduction ****#"
   ]
  },
  {
   "cell_type": "markdown",
   "metadata": {},
   "source": [
    "##  Array Creation ##"
   ]
  },
  {
   "cell_type": "code",
   "execution_count": 176,
   "metadata": {},
   "outputs": [
    {
     "name": "stdout",
     "output_type": "stream",
     "text": [
      "Valid array when data equaly provided\n",
      "[[3 5 2]\n",
      " [7 4 1]\n",
      " [7 6 5]]\n",
      "---------------------------------\n",
      "Invalid array when data equaly provided, its become array of list\n",
      "[list([3, 5, 2]) list([7, 4, 1, 4]) list([7, 6])]\n",
      "---------------------------------\n",
      "Array with zeros\n",
      "[[0. 0. 0. 0. 0.]\n",
      " [0. 0. 0. 0. 0.]]\n",
      "---------------------------------\n",
      "Array with ones\n",
      "[[1. 1.]\n",
      " [1. 1.]\n",
      " [1. 1.]\n",
      " [1. 1.]]\n",
      "---------------------------------\n",
      "Array with list/touple\n",
      "[(6, 7, 8), [1, 2, 3]]\n",
      "[[6 7 8]\n",
      " [1 2 3]]\n",
      "[[12 14 16]\n",
      " [ 2  4  6]]\n",
      "---------------------------------\n",
      "Array with linespace\n",
      "[  0.  25.  50.  75. 100.]\n",
      "Matrix with linespace \n",
      "[[  0.    0. ]\n",
      " [ 25.    2.5]\n",
      " [ 50.    5. ]\n",
      " [ 75.    7.5]\n",
      " [100.   10. ]]\n",
      "---------------------------------\n",
      "Array with arrange\n",
      "[0 1 2 3 4]\n",
      "[ 0  3  6  9 12 15 18 21 24 27]\n"
     ]
    }
   ],
   "source": [
    "import numpy as np\n",
    "\n",
    "arr_Valid = np.array([[3,5,2],[7,4,1],[7,6,5]])\n",
    "print(\"Valid array when data equaly provided\")\n",
    "print(arr_Valid)\n",
    "print(\"---------------------------------\")\n",
    "\n",
    "print(\"Invalid array when data equaly provided, its become array of list\")\n",
    "arr_InValid = np.array([[3,5,2],[7,4,1,4],[7,6]])\n",
    "print(arr_InValid)\n",
    "print(\"---------------------------------\")\n",
    "\n",
    "print(\"Array with zeros\")\n",
    "arr_Valid = np.zeros((2,5))\n",
    "print(arr_Valid)\n",
    "print(\"---------------------------------\")\n",
    "\n",
    "print(\"Array with ones\")\n",
    "arr_Valid = np.ones((4,2))\n",
    "print(arr_Valid)\n",
    "print(\"---------------------------------\")\n",
    "\n",
    "print(\"Array with list/touple\")\n",
    "lst = [(6,7,8),[1,2,3]]\n",
    "arr_Valid = np.asarray(lst)\n",
    "print(lst)\n",
    "print(arr_Valid)\n",
    "print(arr_Valid*2)\n",
    "print(\"---------------------------------\")\n",
    "\n",
    "\n",
    "print(\"Array with linespace\")\n",
    "arr_Valid = np.linspace(0,100,5,True)\n",
    "print(arr_Valid)\n",
    "\n",
    "print(\"Matrix with linespace \")\n",
    "arr_Valid = np.linspace((0,0),(100,10),5)\n",
    "print(arr_Valid)\n",
    "print(\"---------------------------------\")\n",
    "\n",
    "print(\"Array with arrange\")\n",
    "arr_Valid = np.arange(5)\n",
    "print(arr_Valid)\n",
    "arr_Valid = np.arange(0,30,3)\n",
    "print(arr_Valid)"
   ]
  },
  {
   "cell_type": "markdown",
   "metadata": {},
   "source": [
    "## Data Type ##"
   ]
  },
  {
   "cell_type": "code",
   "execution_count": 47,
   "metadata": {},
   "outputs": [
    {
     "name": "stdout",
     "output_type": "stream",
     "text": [
      "Array without datatype : \n",
      "[['3' '5' '2']\n",
      " ['7' '4' '1']\n",
      " ['7' '6' 'a']]\n",
      "int8\n",
      "---------------------------------\n",
      "Array with datatype : \n",
      "[[3 5 2]\n",
      " [7 4 1]\n",
      " [7 6 4]]\n",
      "---------------------------------\n",
      "Array with multi datatype : \n",
      "[(b'John', 21, 50.) (b'Allen', 18, 75.)]\n"
     ]
    }
   ],
   "source": [
    "\n",
    "arr_Valid = np.array([[3,5,2],[7,4,1],[7,6,'a']])\n",
    "print(\"Array without datatype : \")\n",
    "print(arr_Valid)\n",
    "(\"---------------------------------\")\n",
    "dt = np.dtype('i1') # np.dtype('int8')\n",
    "print(dt)\n",
    "print(\"---------------------------------\")\n",
    "print(\"Array with datatype : \")\n",
    "#arr_InValid = np.array([[3,5,2],[7,4,1],[7,6,'a']],dtype=dt)\n",
    "#print(arr_InValid)\n",
    "arr_Valid = np.array([[3,5,2],[7,4,1],[7,6,4]],dtype=dt)\n",
    "print(arr_Valid)\n",
    "\n",
    "print(\"---------------------------------\")\n",
    "print(\"Array with multi datatype : \")\n",
    "student = np.dtype([('name','S20'), ('age', 'i1'), ('marks', 'f4')]) \n",
    "arr_student = np.array([('John', 21, 50),('Allen', 18, 75)], dtype = student) \n",
    "print(arr_student)"
   ]
  },
  {
   "cell_type": "markdown",
   "metadata": {},
   "source": [
    "#### In-built Datatype ####\n",
    "<ul>\n",
    "<li> 'b' − boolean </li> \n",
    "<li> 'i' − (signed) integer </li> \n",
    "<li> 'u' − unsigned integer </li> \n",
    "<li> 'f' − floating-point </li> \n",
    "<li> 'c' − complex-floating point </li> \n",
    "<li> 'm' − timedelta </li> \n",
    "<li> 'M' − datetime </li> \n",
    "<li> 'O' − (Python) objects </li> \n",
    "<li> 'S', 'a' − (byte-)string </li> \n",
    "<li> 'U' − Unicode </li> \n",
    "<li> 'V' − raw data (void) </li> \n",
    "</ul>\n"
   ]
  },
  {
   "cell_type": "markdown",
   "metadata": {},
   "source": [
    "## Indexing & Slicing ##"
   ]
  },
  {
   "cell_type": "code",
   "execution_count": 160,
   "metadata": {},
   "outputs": [
    {
     "name": "stdout",
     "output_type": "stream",
     "text": [
      "1-D Array Slicing\n",
      "[0 1 2 3 4 5 6 7 8 9]\n",
      "[3 4 5 6]\n",
      "[3 5]\n",
      "---------------------------------\n",
      "2-D Array\n",
      "[[  1   2   3]\n",
      " [ 10  20  20]\n",
      " [100 200 300]]\n",
      "---------------------------------\n",
      "2-D Array Slicing for Row\n",
      "[[ 1  2  3]\n",
      " [10 20 20]]\n",
      "---------------------------------\n",
      "2-D Array Slicing fro Column\n",
      "[[  1   2]\n",
      " [ 10  20]\n",
      " [100 200]]\n",
      "---------------------------------\n",
      "1-D Array Indexing\n",
      "[0 1 2 3 4 5 6 7 8 9]\n",
      "2\n",
      "---------------------------------\n",
      "2-D Array Indexing\n",
      "[[  1   2   3   4]\n",
      " [ 10  20  30  40]\n",
      " [100 200 300 400]\n",
      " [111 222 333 444]]\n",
      "200\n"
     ]
    }
   ],
   "source": [
    "print(\"1-D Array Slicing\")\n",
    "arr_Valid = np.arange(10)\n",
    "print(arr_Valid)\n",
    "print(arr_Valid[3:7])\n",
    "print(arr_Valid[3:7:2])\n",
    "print(\"---------------------------------\")\n",
    "\n",
    "print(\"2-D Array\")\n",
    "arr_Valid = np.array([[1,2,3],[10,20,20],[100,200,300]])\n",
    "print(arr_Valid)\n",
    "print(\"---------------------------------\")\n",
    "\n",
    "print(\"2-D Array Slicing for Row\")\n",
    "print(arr_Valid[0:2])\n",
    "print(\"---------------------------------\")\n",
    "\n",
    "print(\"2-D Array Slicing fro Column\")\n",
    "print(arr_Valid[...,0:2])\n",
    "print(\"---------------------------------\")\n",
    "\n",
    "print(\"1-D Array Indexing\")\n",
    "arr_Valid = np.arange(10)\n",
    "print(arr_Valid)\n",
    "print(arr_Valid[2])\n",
    "print(\"---------------------------------\")\n",
    "\n",
    "print(\"2-D Array Indexing\")\n",
    "arr_Valid = np.array([[1,2,3,4],[10,20,30,40],[100,200,300,400],[111,222,333,444]]) \n",
    "print(arr_Valid)\n",
    "print(arr_Valid[2,1])"
   ]
  },
  {
   "cell_type": "markdown",
   "metadata": {},
   "source": [
    "## Broadcasting ##"
   ]
  },
  {
   "cell_type": "code",
   "execution_count": 173,
   "metadata": {},
   "outputs": [
    {
     "name": "stdout",
     "output_type": "stream",
     "text": [
      "2-D Array\n",
      "[[  1   2   3]\n",
      " [ 10  20  30]\n",
      " [100 200 200]]\n",
      "---------------------------------\n",
      "Multiply with value\n",
      "[[  2   4   6]\n",
      " [ 20  40  60]\n",
      " [200 400 400]]\n",
      "---------------------------------\n",
      "Multiply/Addition with 1-D Array\n",
      "[[  1   4   9]\n",
      " [ 10  40  90]\n",
      " [100 400 600]]\n",
      "[[  2   4   6]\n",
      " [ 11  22  33]\n",
      " [101 202 203]]\n",
      "---------------------------------\n"
     ]
    }
   ],
   "source": [
    "print(\"2-D Array\")\n",
    "arr_Valid = np.array([[1,2,3],[10,20,30],[100,200,200]])\n",
    "print(arr_Valid)\n",
    "print(\"---------------------------------\")\n",
    "\n",
    "print(\"Multiply with value\")\n",
    "print(arr_Valid * 2)\n",
    "print(\"---------------------------------\")\n",
    "\n",
    "print(\"Multiply/Addition with 1-D Array\")\n",
    "arr_second = np.array([1,2,3])\n",
    "print(arr_Valid * arr_second)\n",
    "print(arr_Valid + arr_second)\n",
    "print(\"---------------------------------\")\n"
   ]
  },
  {
   "cell_type": "markdown",
   "metadata": {},
   "source": [
    "## Iterating ##"
   ]
  },
  {
   "cell_type": "code",
   "execution_count": 200,
   "metadata": {},
   "outputs": [
    {
     "name": "stdout",
     "output_type": "stream",
     "text": [
      "Array Iterating\n",
      "1\n",
      "2\n",
      "3\n",
      "4\n",
      "5\n",
      "6\n",
      "7\n",
      "8\n",
      "9\n",
      "---------------------------------\n",
      "Array Reshaping\n",
      "[[1 2 3 4 5 6 7 8 9]]\n",
      "---------------------------------\n",
      "Transpose\n",
      "[[1 2 3]\n",
      " [4 5 6]\n",
      " [7 8 9]]\n",
      "[[1 4 7]\n",
      " [2 5 8]\n",
      " [3 6 9]]\n",
      "---------------------------------\n"
     ]
    }
   ],
   "source": [
    "print(\"Array Iterating\")\n",
    "arr_Valid = np.array([[1,2,3],[4,5,6],[7,8,9]])\n",
    "for x in np.nditer(arr_Valid):\n",
    "   print(x),\n",
    "print(\"---------------------------------\")\n",
    "\n",
    "print(\"Array Reshaping\")\n",
    "arr_reshape1 = arr_Valid.reshape(1,9)\n",
    "print(arr_reshape1)\n",
    "print(\"---------------------------------\")\n",
    "\n",
    "\n",
    "print(\"Transpose\")\n",
    "arr_Valid = np.array([[1,2,3],[4,5,6],[7,8,9]])\n",
    "print(arr_Valid)\n",
    "print(arr_Valid.T)\n",
    "print(\"---------------------------------\")"
   ]
  }
 ],
 "metadata": {
  "kernelspec": {
   "display_name": "Python 3",
   "language": "python",
   "name": "python3"
  },
  "language_info": {
   "codemirror_mode": {
    "name": "ipython",
    "version": 3
   },
   "file_extension": ".py",
   "mimetype": "text/x-python",
   "name": "python",
   "nbconvert_exporter": "python",
   "pygments_lexer": "ipython3",
   "version": "3.7.3"
  }
 },
 "nbformat": 4,
 "nbformat_minor": 2
}
