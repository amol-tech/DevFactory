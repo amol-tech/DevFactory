{
 "cells": [
  {
   "cell_type": "markdown",
   "metadata": {},
   "source": [
    "# Understanding Pandas #"
   ]
  },
  {
   "cell_type": "markdown",
   "metadata": {},
   "source": [
    "### Importing Data from CSV ###"
   ]
  },
  {
   "cell_type": "code",
   "execution_count": null,
   "metadata": {},
   "outputs": [],
   "source": [
    "import pandas as pd\n",
    "import os\n",
    "\n",
    "dir_workspace = os.getcwd()\n",
    "file_emp = os.path.join(dir_workspace,'emp.csv')\n",
    "file_dept = os.path.join(dir_workspace,'dept.csv')\n",
    "df_emp = pd.read_csv(file_emp)\n",
    "df_dept = pd.read_csv(file_dept)\n",
    "df_emp.head()"
   ]
  },
  {
   "cell_type": "code",
   "execution_count": null,
   "metadata": {},
   "outputs": [],
   "source": [
    "df_dept.head()"
   ]
  },
  {
   "cell_type": "code",
   "execution_count": null,
   "metadata": {},
   "outputs": [],
   "source": [
    "df_emp['DOJ'] = df_emp['DOJ'].astype('datetime64[ns]') \n",
    "df_emp.info()"
   ]
  },
  {
   "cell_type": "markdown",
   "metadata": {},
   "source": [
    "### Column Selection ###"
   ]
  },
  {
   "cell_type": "code",
   "execution_count": null,
   "metadata": {
    "scrolled": true
   },
   "outputs": [],
   "source": [
    "df_out = df_emp[['EMPNO','ENAME','DESIG','SALARY']]\n",
    "df_out.head()"
   ]
  },
  {
   "cell_type": "markdown",
   "metadata": {},
   "source": [
    "### Column Expression ###"
   ]
  },
  {
   "cell_type": "code",
   "execution_count": null,
   "metadata": {},
   "outputs": [],
   "source": [
    "df_out = df_emp\n",
    "df_out['BONUS'] = df_out['SALARY'] * 0.2\n",
    "\n",
    "df_out['STMT'] = df_out['ENAME'] + ' working as ' +  df_out['DESIG'] + ' earning salary of Rs.' + df_out.apply(lambda e : str(e.SALARY),axis=1)\n",
    "df_out[['ENAME','BONUS','STMT']].head()\n"
   ]
  },
  {
   "cell_type": "markdown",
   "metadata": {},
   "source": [
    "### Selection with ilocation ###"
   ]
  },
  {
   "cell_type": "code",
   "execution_count": null,
   "metadata": {},
   "outputs": [],
   "source": [
    "print('Selecting value from dataframe as a variable')\n",
    "value = df_emp.iloc[3,1]\n",
    "print('Name : '+value)\n",
    "value = df_emp.iloc[3,5]\n",
    "print('Salary : '+str(value))\n",
    "print('===================================================')\n",
    "\n",
    "print('Selecting value from dataframe as a column')\n",
    "#df_out = df_emp.iloc[1:5] # With all columns \n",
    "#df_out = df_emp.iloc[:,1:5] # With All Rows\n",
    "df_out = df_emp.iloc[1:7:,1:5] \n",
    "df_out.head(20)"
   ]
  },
  {
   "cell_type": "markdown",
   "metadata": {},
   "source": [
    "### Selection with location ###"
   ]
  },
  {
   "cell_type": "code",
   "execution_count": null,
   "metadata": {},
   "outputs": [],
   "source": [
    "print('Selecting value from dataframe as a variable')\n",
    "#df_out = df_emp.loc[1:5] # With all columns \n",
    "df_out = df_emp.loc[:,'ENAME':'DESIG'] # With All Rows\n",
    "#df_out = df_emp.loc[1:7,'ENAME':'DESIG']\n",
    "df_out.head(20)"
   ]
  },
  {
   "cell_type": "markdown",
   "metadata": {},
   "source": [
    "### Selection with condition ###"
   ]
  },
  {
   "cell_type": "code",
   "execution_count": null,
   "metadata": {},
   "outputs": [],
   "source": [
    "df_out = df_emp[df_emp['DESIG'] == 'Officer']\n",
    "df_out.head(20)"
   ]
  },
  {
   "cell_type": "markdown",
   "metadata": {},
   "source": [
    "#### Selection with condition - AND ####"
   ]
  },
  {
   "cell_type": "code",
   "execution_count": null,
   "metadata": {},
   "outputs": [],
   "source": [
    "df_out = df_emp[(df_emp['DESIG'] == 'Officer') & (df_emp['SALARY']>=15000)]\n",
    "df_out.head(20)"
   ]
  },
  {
   "cell_type": "markdown",
   "metadata": {},
   "source": [
    "#### Selection with condition - OR ####"
   ]
  },
  {
   "cell_type": "code",
   "execution_count": null,
   "metadata": {},
   "outputs": [],
   "source": [
    "df_out = df_emp[(df_emp['DESIG'] == 'Officer') | (df_emp['SALARY']>=15000)]\n",
    "df_out.head(20)"
   ]
  },
  {
   "cell_type": "markdown",
   "metadata": {},
   "source": [
    "#### Selection with condition - IN Function ####"
   ]
  },
  {
   "cell_type": "code",
   "execution_count": null,
   "metadata": {},
   "outputs": [],
   "source": [
    "df_out = df_emp[df_emp['DESIG'].isin(['Manager','Officer'])]\n",
    "df_out.head(20)"
   ]
  },
  {
   "cell_type": "code",
   "execution_count": null,
   "metadata": {},
   "outputs": [],
   "source": [
    "#### Selection with condition - Date Value ####"
   ]
  },
  {
   "cell_type": "code",
   "execution_count": null,
   "metadata": {},
   "outputs": [],
   "source": [
    "import datetime\n",
    "df_out = df_emp[df_emp['DOJ'] > datetime.datetime(2007,1,1)]\n",
    "df_out.head(20)\n"
   ]
  },
  {
   "cell_type": "markdown",
   "metadata": {},
   "source": [
    "### Group By & Having ####"
   ]
  },
  {
   "cell_type": "code",
   "execution_count": null,
   "metadata": {},
   "outputs": [],
   "source": [
    "#df_emp.groupby('DESIG').count()[['ENAME']]\n",
    "df_out = df_emp[['DESIG','SALARY']].groupby('DESIG').sum()\n",
    "df_out.columns = ['Total']\n",
    "df_out = df_out.reset_index()\n",
    "print(df_out)\n",
    "df_out = df_out[df_out['Total']>40000]\n",
    "df_out.head()"
   ]
  },
  {
   "cell_type": "markdown",
   "metadata": {},
   "source": [
    "### Group By with multiple Aggergate function ####"
   ]
  },
  {
   "cell_type": "code",
   "execution_count": null,
   "metadata": {},
   "outputs": [],
   "source": [
    "df_out = df_emp.groupby('DESIG').agg({'SALARY': ['count','mean', 'min', 'max','sum','std']})\n",
    "df_out.columns = ['Count', 'Average', 'Minimum','Maximum','Total','Std_Dev']\n",
    "df_out = df_out.reset_index()\n",
    "df_out.head()"
   ]
  }
 ],
 "metadata": {
  "kernelspec": {
   "display_name": "Python 3 (ipykernel)",
   "language": "python",
   "name": "python3"
  },
  "language_info": {
   "codemirror_mode": {
    "name": "ipython",
    "version": 3
   },
   "file_extension": ".py",
   "mimetype": "text/x-python",
   "name": "python",
   "nbconvert_exporter": "python",
   "pygments_lexer": "ipython3",
   "version": "3.7.1rc1"
  }
 },
 "nbformat": 4,
 "nbformat_minor": 4
}
