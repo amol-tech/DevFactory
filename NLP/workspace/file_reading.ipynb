{
 "cells": [
  {
   "cell_type": "code",
   "execution_count": null,
   "id": "4def647e-8793-43ef-abaf-5832145a8e9a",
   "metadata": {},
   "outputs": [],
   "source": [
    "import os\n",
    "f = open('samples/nlp_desc.txt',mode='r')\n",
    "for line in f:\n",
    "    print(line)"
   ]
  },
  {
   "cell_type": "code",
   "execution_count": null,
   "id": "512ab493-5d96-4dd1-999e-afd8c7880540",
   "metadata": {},
   "outputs": [],
   "source": [
    "import os\n",
    "f = open('samples/points.txt',mode='w',encoding='utf-8')\n",
    "points = ['3.1\tText and speech processing\\n','3.2\tMorphological analysis\\n','3.3\tSyntactic analysis']\n",
    "f.writelines(points)\n",
    "f.close()\n",
    "f1  = open('io_practice/points.txt',mode='r')\n",
    "for l in f1:\n",
    "    print(l)"
   ]
  },
  {
   "cell_type": "code",
   "execution_count": null,
   "id": "853bae41-563e-4b5d-88b4-a022969e5942",
   "metadata": {},
   "outputs": [],
   "source": [
    "import os\n",
    "f = open('samples/points.txt',mode='a+',encoding='utf-8')\n",
    "points = ['3.4\tLexical semantics of individual words in context\\n','3.5\tRelational semantics\\n','3.6\tDiscourse']\n",
    "f.writelines(points)\n",
    "f.close()\n",
    "f1  = open('io_practice/points.txt',mode='r')\n",
    "for l in f1:\n",
    "    print(l)"
   ]
  },
  {
   "cell_type": "code",
   "execution_count": 1,
   "id": "6be6356c-d6b5-4a44-927b-0467dd71bf57",
   "metadata": {},
   "outputs": [
    {
     "name": "stdout",
     "output_type": "stream",
     "text": [
      "Natural language processing\n",
      "\n",
      "From Wikipedia, the free encyclopedia\n",
      "Jump to navigationJump to search\n",
      "This article is about natural language processing done by computers. For the natural language processing done by the human brain, see Language processing in the brain.\n",
      "\n",
      "An automated online assistant providing customer service on a web page, an example of an application where natural language processing is a major component.[1]\n",
      "Natural language processing (NLP) is a subfield of linguistics, computer science, and artificial intelligence concerned with the interactions between computers and human language, in particular how to program computers to process and analyze large amounts of natural language data. The goal is a computer capable of \"understanding\" the contents of documents, including the contextual nuances of the language within them. The technology can then accurately extract information and insights contained in the documents as well as categorize and organize the documents themselves.\n",
      "Contents\n",
      "•\tH istory\n",
      "o\t1.1Symbolic NLP (1950s – early 1990s)\n",
      "o\t1.2Statistical NLP (1990s–2010s)\n",
      "o\t1.3Neural NLP (present)\n",
      "•\t2Methods: Rules, statistics, neural networks\n",
      "o\t2.1Statistical methods\n",
      "o\t2.2Neural networks\n",
      "•\t3Common NLP tasks\n",
      "o\t3.1Text and speech processing\n",
      "o\t3.2Morphological analysis\n",
      "o\t3.3Syntactic analysis\n",
      "o\t3.4Lexical semantics (of individual words in context)\n",
      "o\t3.5Relational semantics (semantics of individual sentences)\n",
      "o\t3.6Discourse (semantics beyond individual sentences)\n",
      "\n",
      "\n"
     ]
    }
   ],
   "source": [
    "from docx import Document\n",
    "doc = Document('samples/nlp_summary.docx')\n",
    "for para in doc.paragraphs:\n",
    "    print(para.text)"
   ]
  }
 ],
 "metadata": {
  "kernelspec": {
   "display_name": "Python 3 (ipykernel)",
   "language": "python",
   "name": "python3"
  },
  "language_info": {
   "codemirror_mode": {
    "name": "ipython",
    "version": 3
   },
   "file_extension": ".py",
   "mimetype": "text/x-python",
   "name": "python",
   "nbconvert_exporter": "python",
   "pygments_lexer": "ipython3",
   "version": "3.7.1rc1"
  }
 },
 "nbformat": 4,
 "nbformat_minor": 5
}
