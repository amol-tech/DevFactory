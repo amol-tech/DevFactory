{
 "cells": [
  {
   "cell_type": "code",
   "execution_count": 2,
   "metadata": {},
   "outputs": [],
   "source": [
    "import os, sys\n",
    "import subprocess\n",
    "from subprocess import Popen, PIPE,STDOUT"
   ]
  },
  {
   "cell_type": "code",
   "execution_count": 8,
   "metadata": {},
   "outputs": [
    {
     "name": "stdout",
     "output_type": "stream",
     "text": [
      "C:/Release/GSOMapper\\commandline/mapping-translations.bat\n",
      "Press any key to continue . . . \n",
      "\n"
     ]
    }
   ],
   "source": [
    "dir_mapper = 'C:/Release/GSOMapper'\n",
    "file_cmd = os.path.join(dir_mapper, 'commandline/mapping-translations.bat')\n",
    "print(file_cmd)\n",
    "process = subprocess.run([file_cmd,'C:/Release/GSOMapper/workspace/BBGlobalEquity_Unit.mdx', 'C:/Release/GSOMapper/workspace/BBGlobalEquityInput_csv.txt','C:/Release/GSOMapper/workspace/Splitters/LineByLine.xml'], check=True, stdout=subprocess.PIPE,\n",
    "                             universal_newlines=True, shell=True)\n",
    "if (process.stderr != None):\n",
    "    print('Error')\n"
   ]
  },
  {
   "cell_type": "code",
   "execution_count": 10,
   "metadata": {},
   "outputs": [
    {
     "ename": "AttributeError",
     "evalue": "'int' object has no attribute 'stdout'",
     "output_type": "error",
     "traceback": [
      "\u001b[1;31m---------------------------------------------------------------------------\u001b[0m",
      "\u001b[1;31mAttributeError\u001b[0m                            Traceback (most recent call last)",
      "\u001b[1;32m<ipython-input-10-3b4d58114d61>\u001b[0m in \u001b[0;36m<module>\u001b[1;34m\u001b[0m\n\u001b[0;32m      4\u001b[0m                  \u001b[1;34m'C:/Release/GSOMapper/workspace/BBGlobalEquityInput_csv.txt'\u001b[0m\u001b[1;33m,\u001b[0m\u001b[1;33m\u001b[0m\u001b[1;33m\u001b[0m\u001b[0m\n\u001b[0;32m      5\u001b[0m                  'C:/Release/GSOMapper/workspace/Splitters/LineByLine.xml'])\n\u001b[1;32m----> 6\u001b[1;33m \u001b[0mprint\u001b[0m\u001b[1;33m(\u001b[0m\u001b[0mprocess\u001b[0m\u001b[1;33m.\u001b[0m\u001b[0mstdout\u001b[0m\u001b[1;33m)\u001b[0m\u001b[1;33m\u001b[0m\u001b[1;33m\u001b[0m\u001b[0m\n\u001b[0m",
      "\u001b[1;31mAttributeError\u001b[0m: 'int' object has no attribute 'stdout'"
     ]
    }
   ],
   "source": [
    "process = subprocess.call(['java', '-Xms256m', '-Xmx1024m', '-cp','C:/Release/GSOMapper/*',\n",
    "                 'core.service.commandline.MappingTranslationServiceCommandLine', \n",
    "                 'C:/Release/GSOMapper/workspace/BBGlobalEquity_Unit.mdx',\n",
    "                 'C:/Release/GSOMapper/workspace/BBGlobalEquityInput_csv.txt',\n",
    "                 'C:/Release/GSOMapper/workspace/Splitters/LineByLine.xml'])\n",
    "print(process.stdout)"
   ]
  },
  {
   "cell_type": "code",
   "execution_count": 4,
   "metadata": {},
   "outputs": [],
   "source": [
    "proc = Popen([file_cmd], shell=False)"
   ]
  }
 ],
 "metadata": {
  "kernelspec": {
   "display_name": "Python 3",
   "language": "python",
   "name": "python3"
  },
  "language_info": {
   "codemirror_mode": {
    "name": "ipython",
    "version": 3
   },
   "file_extension": ".py",
   "mimetype": "text/x-python",
   "name": "python",
   "nbconvert_exporter": "python",
   "pygments_lexer": "ipython3",
   "version": "3.7.1rc1"
  }
 },
 "nbformat": 4,
 "nbformat_minor": 2
}
