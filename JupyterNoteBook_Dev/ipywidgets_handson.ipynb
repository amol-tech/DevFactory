{
 "cells": [
  {
   "cell_type": "markdown",
   "metadata": {},
   "source": [
    "<h1><center>Jupyter Widgets</center></h1>\n",
    "<h4>Sample Widgets</h4>\n",
    "<ul>\n",
    "    <li>Layout Widgets : Box</li>\n",
    "    <li>Tree</li>\n",
    "    <li>Table</li>\n",
    "</ul>\n",
    "<br>\n",
    "<a>https://ipywidgets.readthedocs.io/en/latest/examples/Widget%20List.html</a>"
   ]
  },
  {
   "cell_type": "code",
   "execution_count": 1,
   "metadata": {},
   "outputs": [
    {
     "name": "stdout",
     "output_type": "stream",
     "text": [
      "Current ipywidgets module version is : 7.5.1, required version will be greater than 7.5.2\n",
      "If not fullfilled then pip uninstall ipywidgets and install it again\n"
     ]
    }
   ],
   "source": [
    "#!pip install ipywidgets\n",
    "#!pip install ipytree\n",
    "import ipywidgets as widgets\n",
    "import pkg_resources\n",
    "version  = pkg_resources.get_distribution(\"ipywidgets\").version\n",
    "print('Current ipywidgets module version is : '+version+', required version will be greater than 7.5.2')\n",
    "print('If not fullfilled then pip uninstall ipywidgets and install it again')\n",
    "from ipytree import Tree, Node\n",
    "from ipywidgets import interact, interactive, fixed, interact_manual, GridspecLayout, Layout, HBox, VBox"
   ]
  },
  {
   "cell_type": "code",
   "execution_count": 2,
   "metadata": {},
   "outputs": [
    {
     "data": {
      "text/html": [
       "<style>\n",
       ".lbl_bg{\n",
       "    width:auto;\n",
       "    background-color:yellow;\n",
       "}\n",
       ".box_style{\n",
       "    width:40%;\n",
       "    border : 2px solid red;\n",
       "    height: auto;\n",
       "    background-color:lightgray;\n",
       "}\n",
       "</style>\n"
      ],
      "text/plain": [
       "<IPython.core.display.HTML object>"
      ]
     },
     "metadata": {},
     "output_type": "display_data"
    }
   ],
   "source": [
    "%%html\n",
    "<style>\n",
    ".lbl_bg{\n",
    "    width:auto;\n",
    "    background-color:yellow;\n",
    "}\n",
    ".box_style{\n",
    "    width:40%;\n",
    "    border : 2px solid red;\n",
    "    height: auto;\n",
    "    background-color:lightgray;\n",
    "}\n",
    "</style>"
   ]
  },
  {
   "cell_type": "code",
   "execution_count": 3,
   "metadata": {},
   "outputs": [
    {
     "data": {
      "application/vnd.jupyter.widget-view+json": {
       "model_id": "068aeda1e423465b997bbba8175bd311",
       "version_major": 2,
       "version_minor": 0
      },
      "text/plain": [
       "HBox(children=(VBox(children=(Label(value='Label : 0'), Label(value='Label : 1')), layout=Layout(border='solid…"
      ]
     },
     "metadata": {},
     "output_type": "display_data"
    }
   ],
   "source": [
    "items = [widgets.Label('Label : '+str(i)) for i in range(4)]\n",
    "left_box = widgets.VBox([items[0], items[1]])\n",
    "left_box.layout.width = '50%'\n",
    "left_box.layout.border='solid 1px'\n",
    "left_box.layout.margin = '1px'\n",
    "left_box.add_class(\"box_style\")\n",
    "right_box = widgets.VBox([items[2], items[3]])\n",
    "right_box.layout.width = '50%'\n",
    "right_box.layout.border='solid 1px'\n",
    "main_box = widgets.HBox([left_box, right_box])\n",
    "main_box"
   ]
  },
  {
   "cell_type": "code",
   "execution_count": 4,
   "metadata": {},
   "outputs": [
    {
     "data": {
      "application/vnd.jupyter.widget-view+json": {
       "model_id": "a354b1ad004f4856a62e19d3654cb0bc",
       "version_major": 2,
       "version_minor": 0
      },
      "text/plain": [
       "AppLayout(children=(Button(button_style='success', description='Header', layout=Layout(grid_area='header', hei…"
      ]
     },
     "metadata": {},
     "output_type": "display_data"
    }
   ],
   "source": [
    "from ipywidgets import AppLayout, Button, Layout\n",
    "\n",
    "data_input_style = \"<style>.data_input input { background-color:#D0F0D0 !important; }</style>\"\n",
    "items = [widgets.Label('Label : '+str(i)) for i in range(4)]\n",
    "left_box = widgets.VBox([items[0], items[1]],background_color='gray')\n",
    "\n",
    "def create_expanded_button(description, button_style):\n",
    "    return Button(description=description, button_style=button_style, layout=Layout(height='auto', width='auto'))\n",
    "\n",
    "header_button = create_expanded_button('Header', 'success')\n",
    "left_button = create_expanded_button('Left', 'info')\n",
    "center_button = create_expanded_button('Center', 'warning')\n",
    "right_button = create_expanded_button('Right', 'info')\n",
    "footer_button = create_expanded_button('Footer', 'success')\n",
    "\n",
    "AppLayout(header=header_button,\n",
    "          left_sidebar=left_box,\n",
    "          center=center_button,\n",
    "          footer=footer_button)"
   ]
  },
  {
   "cell_type": "code",
   "execution_count": 5,
   "metadata": {},
   "outputs": [
    {
     "data": {
      "application/vnd.jupyter.widget-view+json": {
       "model_id": "3d691def153b4a919757d37955a8e290",
       "version_major": 2,
       "version_minor": 0
      },
      "text/plain": [
       "Dropdown(description='Country:', options=('USA', 'Pakistan', 'India', 'China', 'Sri Lanka'), value='USA')"
      ]
     },
     "metadata": {},
     "output_type": "display_data"
    }
   ],
   "source": [
    "a = widgets.Dropdown(options=['USA', 'Pakistan', 'India', 'China', 'Sri Lanka'], value=  'USA', description='Country:')\n",
    "a"
   ]
  },
  {
   "cell_type": "code",
   "execution_count": 6,
   "metadata": {},
   "outputs": [
    {
     "data": {
      "application/vnd.jupyter.widget-view+json": {
       "model_id": "4ea09550a67549cebebc73a0dc8808f3",
       "version_major": 2,
       "version_minor": 0
      },
      "text/plain": [
       "Text(value='', description='Address:', placeholder='Type Here')"
      ]
     },
     "metadata": {},
     "output_type": "display_data"
    }
   ],
   "source": [
    "widgets.Text(placeholder='Type Here', description='Address:', disabled=False)"
   ]
  },
  {
   "cell_type": "code",
   "execution_count": 7,
   "metadata": {},
   "outputs": [
    {
     "data": {
      "application/vnd.jupyter.widget-view+json": {
       "model_id": "c3de7a94ac5c4ff78d5dcbfc7cb07566",
       "version_major": 2,
       "version_minor": 0
      },
      "text/plain": [
       "IntProgress(value=7, bar_style='info', description='Progress:', max=10)"
      ]
     },
     "metadata": {},
     "output_type": "display_data"
    }
   ],
   "source": [
    "widgets.IntProgress( value=7, min=0, max=10, step=1,description='Progress:', bar_style='info',orientation='horizontal')"
   ]
  },
  {
   "cell_type": "code",
   "execution_count": 8,
   "metadata": {},
   "outputs": [
    {
     "data": {
      "application/vnd.jupyter.widget-view+json": {
       "model_id": "62392f5f868c4b7db65d34fdc79858f2",
       "version_major": 2,
       "version_minor": 0
      },
      "text/plain": [
       "Tree(nodes=(Node(icon='archive', icon_style='warning', name='root'), Node(icon='info', icon_style='info', name…"
      ]
     },
     "metadata": {},
     "output_type": "display_data"
    }
   ],
   "source": [
    "tree5 = Tree()\n",
    "\n",
    "tree5.add_node(Node(\"root\", icon=\"archive\", icon_style=\"warning\"))\n",
    "tree5.add_node(Node(\"media\", icon=\"info\", icon_style=\"info\"))\n",
    "tree5.add_node(Node(\"local\", icon=\"warning\", icon_style=\"success\"))\n",
    "tree5.add_node(Node(\"home\", \n",
    "                    [Node(\"Desktop\", [Node(\"File1\", icon=\"copy\", icon_style=\"warning\"), \n",
    "                                      Node(\"File2\", icon=\"plus\", icon_style=\"success\")], icon=\"save\", icon_style=\"info\"), \n",
    "                     Node(\"Documents\", icon=\"cut\", icon_style=\"danger\")], icon=\"home\", icon_style=\"success\"))\n",
    "\n",
    "tree5"
   ]
  },
  {
   "cell_type": "code",
   "execution_count": 9,
   "metadata": {},
   "outputs": [
    {
     "data": {
      "application/vnd.jupyter.widget-view+json": {
       "model_id": "d30ce91bdbdc446aa56bec006a600658",
       "version_major": 2,
       "version_minor": 0
      },
      "text/plain": [
       "interactive(children=(IntSlider(value=10, description='x', max=30, min=-10), Output()), _dom_classes=('widget-…"
      ]
     },
     "metadata": {},
     "output_type": "display_data"
    },
    {
     "name": "stdout",
     "output_type": "stream",
     "text": [
      "<function f at 0x000002896B31B400>\n"
     ]
    }
   ],
   "source": [
    "def f(x):\n",
    "    return x\n",
    "s = interact(f, x=10);\n",
    "print(s)"
   ]
  },
  {
   "cell_type": "code",
   "execution_count": 10,
   "metadata": {},
   "outputs": [
    {
     "data": {
      "application/vnd.jupyter.widget-view+json": {
       "model_id": "ad2266eec2c54dfab8737363a7db0c83",
       "version_major": 2,
       "version_minor": 0
      },
      "text/plain": [
       "Tab(_titles={'0': 'Input', '1': 'Mapping', '2': 'Output'})"
      ]
     },
     "metadata": {},
     "output_type": "display_data"
    }
   ],
   "source": [
    "tab_names = ['Input','Mapping','Output'] \n",
    "tabs = widgets.Tab()\n",
    "i = 0\n",
    "for name in tab_names:\n",
    "    tabs.set_title(i,name)\n",
    "    i = i + 1\n",
    "tabs\n"
   ]
  }
 ],
 "metadata": {
  "kernelspec": {
   "display_name": "Python 3",
   "language": "python",
   "name": "python3"
  },
  "language_info": {
   "codemirror_mode": {
    "name": "ipython",
    "version": 3
   },
   "file_extension": ".py",
   "mimetype": "text/x-python",
   "name": "python",
   "nbconvert_exporter": "python",
   "pygments_lexer": "ipython3",
   "version": "3.7.3"
  }
 },
 "nbformat": 4,
 "nbformat_minor": 2
}
