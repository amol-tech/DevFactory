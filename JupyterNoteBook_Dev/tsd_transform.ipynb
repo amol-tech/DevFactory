{
 "cells": [
  {
   "cell_type": "code",
   "execution_count": 7,
   "metadata": {},
   "outputs": [],
   "source": [
    "from lxml import etree as ET\n",
    "import pandas as pd\n",
    "import os\n",
    "import collections"
   ]
  },
  {
   "cell_type": "code",
   "execution_count": 8,
   "metadata": {},
   "outputs": [],
   "source": [
    "dir_workspace = os.path.join(os.getcwd(),'workspace_tsd_transform')\n",
    "file_jdoc = os.path.join(dir_workspace,'javadoc.xml')\n",
    "file_tsd = os.path.join(dir_workspace,'VDDBForward.tsd')\n",
    "file_out_tsd = os.path.join(dir_workspace,'VDDBForward_Out.tsd')\n",
    "tree_jdoc = ET.parse(file_jdoc)\n",
    "tree_tsd = ET.parse(file_tsd)\n",
    "\n",
    "def get_method_name(elm_method):\n",
    "    dataTypes = '['+ ','.join([elm_para.attrib['dataType'].lower() for elm_para in elm_method.findall('.//Parameter')])+']'\n",
    "    return elm_method.attrib['methodName'] + '[' + str(len(elm_method.findall('.//Parameter'))) +']'+dataTypes\n",
    "\n",
    "def get_method_impl_name(elm_step):\n",
    "    dataTypes = '['+ ','.join([elm_para.attrib['format'].lower() for elm_para in elm_step.findall('.//UiParameter')])+']'\n",
    "    return elm_step.attrib['stepName'] + '[' + str(len(elm_step.findall('.//UiParameter'))) +']'+dataTypes\n",
    "\n",
    "dict_method_elm  = {get_method_name(elm):elm for elm in tree_jdoc.findall('.//Method')}"
   ]
  },
  {
   "cell_type": "code",
   "execution_count": 9,
   "metadata": {},
   "outputs": [
    {
     "name": "stdout",
     "output_type": "stream",
     "text": [
      "{'RunSQL[3][string,string,string]', 'RunSQL[6][string,string,string,string,string,string]'}\n"
     ]
    }
   ],
   "source": [
    "list_missed_method = []\n",
    "for elm_step in tree_tsd.findall('.//UiTestStep'):\n",
    "    method_impl_name = get_method_impl_name(elm_step)\n",
    "    if(method_impl_name in dict_method_elm):\n",
    "        list_method_params = dict_method_elm[method_impl_name].findall('.//Parameter')\n",
    "        list_step_params = elm_step.findall('.//UiParameter')\n",
    "        for i in range(0,len(list_step_params)):\n",
    "            elm_m_param = list_method_params[i]\n",
    "            elm_s_param = list_step_params[i]\n",
    "            elm_s_param.attrib['name'] = elm_m_param.attrib['parameterName']\n",
    "    else:\n",
    "        list_missed_method.append(method_impl_name)\n",
    "print(set(list_missed_method))\n",
    "\n",
    "with open(file_out_tsd, \"wb\") as f:\n",
    "    f.write(ET.tostring(tree_tsd, pretty_print = True))"
   ]
  }
 ],
 "metadata": {
  "kernelspec": {
   "display_name": "Python 3",
   "language": "python",
   "name": "python3"
  },
  "language_info": {
   "codemirror_mode": {
    "name": "ipython",
    "version": 3
   },
   "file_extension": ".py",
   "mimetype": "text/x-python",
   "name": "python",
   "nbconvert_exporter": "python",
   "pygments_lexer": "ipython3",
   "version": "3.7.1rc1"
  }
 },
 "nbformat": 4,
 "nbformat_minor": 4
}
