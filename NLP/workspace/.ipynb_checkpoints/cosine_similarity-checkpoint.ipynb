{
 "cells": [
  {
   "cell_type": "code",
   "execution_count": null,
   "id": "a0af5312-eff3-45e7-84a5-4ec78467558e",
   "metadata": {},
   "outputs": [],
   "source": [
    "from sklearn.feature_extraction.text import CountVectorizer\n",
    "import pandas as pd\n",
    "count_vect = CountVectorizer\n",
    "doc1 = 'Sonu nigma home address is so and so'\n",
    "doc2 = 'Sonu Nigam is versatile singer'\n",
    "doc3 = 'Sonu nigam also sing marathi song'\n",
    "doc4 = 'Please enter name and address correctly'\n"
   ]
  }
 ],
 "metadata": {
  "kernelspec": {
   "display_name": "Python 3 (ipykernel)",
   "language": "python",
   "name": "python3"
  },
  "language_info": {
   "codemirror_mode": {
    "name": "ipython",
    "version": 3
   },
   "file_extension": ".py",
   "mimetype": "text/x-python",
   "name": "python",
   "nbconvert_exporter": "python",
   "pygments_lexer": "ipython3",
   "version": "3.7.1rc1"
  }
 },
 "nbformat": 4,
 "nbformat_minor": 5
}
