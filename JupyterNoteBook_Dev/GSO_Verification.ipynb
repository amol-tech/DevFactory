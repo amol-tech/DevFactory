{
 "cells": [
  {
   "cell_type": "code",
   "execution_count": 2,
   "metadata": {},
   "outputs": [
    {
     "ename": "KeyError",
     "evalue": "'++4appuseroto541'",
     "output_type": "error",
     "traceback": [
      "\u001b[1;31m---------------------------------------------------------------------------\u001b[0m",
      "\u001b[1;31mKeyError\u001b[0m                                  Traceback (most recent call last)",
      "\u001b[1;32m<ipython-input-2-0a4194cf3865>\u001b[0m in \u001b[0;36m<module>\u001b[1;34m\u001b[0m\n\u001b[0;32m      5\u001b[0m \u001b[0mfile_name_gs\u001b[0m \u001b[1;33m=\u001b[0m \u001b[0mos\u001b[0m\u001b[1;33m.\u001b[0m\u001b[0mpath\u001b[0m\u001b[1;33m.\u001b[0m\u001b[0mjoin\u001b[0m\u001b[1;33m(\u001b[0m\u001b[0mdir_workspace\u001b[0m\u001b[1;33m,\u001b[0m\u001b[1;34m'RSU_Full.gso'\u001b[0m\u001b[1;33m)\u001b[0m\u001b[1;33m\u001b[0m\u001b[1;33m\u001b[0m\u001b[0m\n\u001b[0;32m      6\u001b[0m \u001b[0mfile_config\u001b[0m \u001b[1;33m=\u001b[0m \u001b[0mos\u001b[0m\u001b[1;33m.\u001b[0m\u001b[0mpath\u001b[0m\u001b[1;33m.\u001b[0m\u001b[0mjoin\u001b[0m\u001b[1;33m(\u001b[0m\u001b[0mdir_workspace\u001b[0m\u001b[1;33m,\u001b[0m\u001b[1;34m'config.yaml'\u001b[0m\u001b[1;33m)\u001b[0m\u001b[1;33m\u001b[0m\u001b[1;33m\u001b[0m\u001b[0m\n\u001b[1;32m----> 7\u001b[1;33m \u001b[0mdf_summary\u001b[0m\u001b[1;33m,\u001b[0m\u001b[0mdict_result\u001b[0m \u001b[1;33m=\u001b[0m \u001b[0mcompare\u001b[0m\u001b[1;33m.\u001b[0m\u001b[0mcompare_gso\u001b[0m\u001b[1;33m(\u001b[0m\u001b[0mfile_config\u001b[0m\u001b[1;33m,\u001b[0m\u001b[0mfile_name_cs\u001b[0m\u001b[1;33m,\u001b[0m\u001b[0mfile_name_gs\u001b[0m\u001b[1;33m,\u001b[0m\u001b[0mdir_workspace\u001b[0m\u001b[1;33m,\u001b[0m\u001b[1;32mFalse\u001b[0m\u001b[1;33m)\u001b[0m\u001b[1;33m\u001b[0m\u001b[1;33m\u001b[0m\u001b[0m\n\u001b[0m\u001b[0;32m      8\u001b[0m \u001b[0mdf_summary\u001b[0m\u001b[1;33m\u001b[0m\u001b[1;33m\u001b[0m\u001b[0m\n",
      "\u001b[1;32mD:\\DevFactory\\JupyterNoteBook_Dev\\gso_compare.py\u001b[0m in \u001b[0;36mcompare_gso\u001b[1;34m(file_config, file_name_cs, file_name_gs, dir_out, show_warning)\u001b[0m\n\u001b[0;32m    375\u001b[0m                 \u001b[0mlist_result\u001b[0m \u001b[1;33m=\u001b[0m \u001b[0mcompare_config_element\u001b[0m\u001b[1;33m(\u001b[0m\u001b[0mdict_config\u001b[0m\u001b[1;33m,\u001b[0m \u001b[0mtree_cs\u001b[0m\u001b[1;33m,\u001b[0m \u001b[0mtree_gs\u001b[0m\u001b[1;33m)\u001b[0m\u001b[1;33m\u001b[0m\u001b[1;33m\u001b[0m\u001b[0m\n\u001b[0;32m    376\u001b[0m             \u001b[1;32melse\u001b[0m\u001b[1;33m:\u001b[0m\u001b[1;33m\u001b[0m\u001b[1;33m\u001b[0m\u001b[0m\n\u001b[1;32m--> 377\u001b[1;33m                 \u001b[0mlist_result\u001b[0m \u001b[1;33m=\u001b[0m \u001b[0mcompare_element\u001b[0m\u001b[1;33m(\u001b[0m\u001b[0mdict_config\u001b[0m\u001b[1;33m,\u001b[0m \u001b[0mtree_cs\u001b[0m\u001b[1;33m,\u001b[0m \u001b[0mtree_gs\u001b[0m\u001b[1;33m)\u001b[0m\u001b[1;33m\u001b[0m\u001b[1;33m\u001b[0m\u001b[0m\n\u001b[0m\u001b[0;32m    378\u001b[0m \u001b[1;33m\u001b[0m\u001b[0m\n\u001b[0;32m    379\u001b[0m             \u001b[1;31m## Persisiting Result\u001b[0m\u001b[1;33m\u001b[0m\u001b[1;33m\u001b[0m\u001b[1;33m\u001b[0m\u001b[0m\n",
      "\u001b[1;32mD:\\DevFactory\\JupyterNoteBook_Dev\\gso_compare.py\u001b[0m in \u001b[0;36mcompare_element\u001b[1;34m(dict_config, tree_elm_cs, tree_elm_gs, dict_parent)\u001b[0m\n\u001b[0;32m    194\u001b[0m                 \u001b[0mlookup_source\u001b[0m \u001b[1;33m=\u001b[0m \u001b[0mcol\u001b[0m\u001b[1;33m.\u001b[0m\u001b[0msplit\u001b[0m\u001b[1;33m(\u001b[0m\u001b[1;34m'->'\u001b[0m\u001b[1;33m)\u001b[0m\u001b[1;33m[\u001b[0m\u001b[1;36m0\u001b[0m\u001b[1;33m]\u001b[0m\u001b[1;33m\u001b[0m\u001b[1;33m\u001b[0m\u001b[0m\n\u001b[0;32m    195\u001b[0m                 \u001b[0mlookup_value\u001b[0m \u001b[1;33m=\u001b[0m \u001b[0mdict_attr_cs\u001b[0m\u001b[1;33m[\u001b[0m\u001b[0mcol\u001b[0m\u001b[1;33m.\u001b[0m\u001b[0msplit\u001b[0m\u001b[1;33m(\u001b[0m\u001b[1;34m'->'\u001b[0m\u001b[1;33m)\u001b[0m\u001b[1;33m[\u001b[0m\u001b[1;36m1\u001b[0m\u001b[1;33m]\u001b[0m\u001b[1;33m]\u001b[0m\u001b[1;33m\u001b[0m\u001b[1;33m\u001b[0m\u001b[0m\n\u001b[1;32m--> 196\u001b[1;33m                 \u001b[0mdict_result\u001b[0m\u001b[1;33m[\u001b[0m\u001b[0mlookup_source\u001b[0m\u001b[1;33m.\u001b[0m\u001b[0mupper\u001b[0m\u001b[1;33m(\u001b[0m\u001b[1;33m)\u001b[0m\u001b[1;33m]\u001b[0m \u001b[1;33m=\u001b[0m \u001b[0mdict_cs_lookups\u001b[0m\u001b[1;33m[\u001b[0m\u001b[0mlookup_source\u001b[0m\u001b[1;33m]\u001b[0m\u001b[1;33m[\u001b[0m\u001b[0mlookup_value\u001b[0m\u001b[1;33m]\u001b[0m\u001b[1;33m\u001b[0m\u001b[1;33m\u001b[0m\u001b[0m\n\u001b[0m\u001b[0;32m    197\u001b[0m             \u001b[1;32melse\u001b[0m\u001b[1;33m:\u001b[0m\u001b[1;33m\u001b[0m\u001b[1;33m\u001b[0m\u001b[0m\n\u001b[0;32m    198\u001b[0m                 \u001b[1;32mif\u001b[0m \u001b[1;33m(\u001b[0m\u001b[0mcol\u001b[0m \u001b[1;32min\u001b[0m \u001b[0mdict_attr_cs\u001b[0m\u001b[1;33m)\u001b[0m\u001b[1;33m:\u001b[0m\u001b[1;33m\u001b[0m\u001b[1;33m\u001b[0m\u001b[0m\n",
      "\u001b[1;31mKeyError\u001b[0m: '++4appuseroto541'"
     ]
    }
   ],
   "source": [
    "import gso_compare as compare\n",
    "import os\n",
    "dir_workspace = os.path.join(os.getcwd(),'workspace_GSO_Comparison')\n",
    "file_name_cs = os.path.join(dir_workspace,'RSU_Custom.gso')\n",
    "file_name_gs = os.path.join(dir_workspace,'RSU_Full.gso')\n",
    "file_config = os.path.join(dir_workspace,'config.yaml')\n",
    "df_summary,dict_result = compare.compare_gso(file_config,file_name_cs,file_name_gs,dir_workspace,False)\n",
    "df_summary"
   ]
  },
  {
   "cell_type": "code",
   "execution_count": null,
   "metadata": {},
   "outputs": [],
   "source": [
    "dict_result['occurrence']"
   ]
  },
  {
   "cell_type": "markdown",
   "metadata": {},
   "source": [
    "dict_result['beField']"
   ]
  }
 ],
 "metadata": {
  "kernelspec": {
   "display_name": "Python 3",
   "language": "python",
   "name": "python3"
  },
  "language_info": {
   "codemirror_mode": {
    "name": "ipython",
    "version": 3
   },
   "file_extension": ".py",
   "mimetype": "text/x-python",
   "name": "python",
   "nbconvert_exporter": "python",
   "pygments_lexer": "ipython3",
   "version": "3.7.1rc1"
  }
 },
 "nbformat": 4,
 "nbformat_minor": 4
}
