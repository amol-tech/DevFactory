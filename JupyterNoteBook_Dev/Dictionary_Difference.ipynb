{
 "cells": [
  {
   "cell_type": "code",
   "execution_count": 3,
   "metadata": {},
   "outputs": [],
   "source": [
    "d1 = {1:'one',3:'three',2:'two'}\n",
    "d2 = {1:'one',2:'two X',4:'four',5:'five'}"
   ]
  },
  {
   "cell_type": "markdown",
   "metadata": {},
   "source": [
    "#### Return extra keys ####"
   ]
  },
  {
   "cell_type": "code",
   "execution_count": 6,
   "metadata": {},
   "outputs": [
    {
     "name": "stdout",
     "output_type": "stream",
     "text": [
      "<class 'set'>\n",
      "{3}\n",
      "{4, 5}\n"
     ]
    }
   ],
   "source": [
    "print(type(set(d1)-set(d2)))\n",
    "print(set(d1)-set(d2))\n",
    "print(set(d2)-set(d1))"
   ]
  },
  {
   "cell_type": "markdown",
   "metadata": {},
   "source": [
    "#### Return difference ####"
   ]
  },
  {
   "cell_type": "code",
   "execution_count": 12,
   "metadata": {},
   "outputs": [
    {
     "name": "stdout",
     "output_type": "stream",
     "text": [
      "{3: 'three'}\n",
      "{(3, 'three1')}\n"
     ]
    }
   ],
   "source": [
    "d1 = {1:'one',3:'three',2:'two'}\n",
    "d2 = {1:'one',2:'two',3:'three1'}\n",
    "print(dict(set(d1.items())-set(d2.items())))\n",
    "print(set(d2.items())-set(d1.items()))"
   ]
  },
  {
   "cell_type": "code",
   "execution_count": 6,
   "metadata": {},
   "outputs": [
    {
     "data": {
      "text/plain": [
       "\"{'k1': 'abc', 'k2': 'pqr'}\""
      ]
     },
     "execution_count": 6,
     "metadata": {},
     "output_type": "execute_result"
    }
   ],
   "source": [
    "dict_check = {'k1':'abc','k2':'pqr'}\n",
    "s = str(dict_check)\n",
    "s"
   ]
  },
  {
   "cell_type": "code",
   "execution_count": 13,
   "metadata": {},
   "outputs": [
    {
     "name": "stdout",
     "output_type": "stream",
     "text": [
      "True\n"
     ]
    },
    {
     "data": {
      "text/plain": [
       "'123'"
      ]
     },
     "execution_count": 13,
     "metadata": {},
     "output_type": "execute_result"
    }
   ],
   "source": [
    "from collections import Counter\n",
    "ls1 = ['a','a']\n",
    "ls2 = ['a']\n",
    "print(Counter(set(ls1)) == Counter(set(ls2)))\n",
    "','.join(['1','2','3'])\n",
    "str(''.join(['1','2','3']))"
   ]
  }
 ],
 "metadata": {
  "kernelspec": {
   "display_name": "Python 3",
   "language": "python",
   "name": "python3"
  },
  "language_info": {
   "codemirror_mode": {
    "name": "ipython",
    "version": 3
   },
   "file_extension": ".py",
   "mimetype": "text/x-python",
   "name": "python",
   "nbconvert_exporter": "python",
   "pygments_lexer": "ipython3",
   "version": "3.7.1rc1"
  }
 },
 "nbformat": 4,
 "nbformat_minor": 2
}
