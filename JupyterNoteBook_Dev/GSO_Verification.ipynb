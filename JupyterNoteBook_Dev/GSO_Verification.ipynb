{
 "cells": [
  {
   "cell_type": "code",
   "execution_count": 42,
   "metadata": {},
   "outputs": [],
   "source": [
    "#!pip install lxml\n",
    "#!pip install datetime\n",
    "from lxml import etree as ET\n",
    "from datetime import datetime\n",
    "import pandas as pd\n",
    "import os\n",
    "from collections import Counter\n",
    "\n",
    "dir_workspace = os.path.join(os.getcwd(),'workspace_GSO_Comparison')\n",
    "file_name_cs = os.path.join(dir_workspace,'GSO_Repository_DB.gso')\n",
    "file_name_gs = os.path.join(dir_workspace,'GSO_Repository_OOB.gso')\n",
    "tree_cs = ET.parse(file_name_cs)\n",
    "tree_gs = ET.parse(file_name_gs)"
   ]
  },
  {
   "cell_type": "code",
   "execution_count": 2,
   "metadata": {},
   "outputs": [],
   "source": [
    "def convert_lxml_to_dict(lxml_dict):\n",
    "    dict_out = {}\n",
    "    for key in lxml_dict:\n",
    "        dict_out[key] = lxml_dict[key]\n",
    "    return dict_out"
   ]
  },
  {
   "cell_type": "code",
   "execution_count": 3,
   "metadata": {},
   "outputs": [],
   "source": [
    "def get_element_dict2(tree, elm_name,unique_columns,id_col='id'):\n",
    "    dict_element_id = {}\n",
    "    dict_element_unique_col = {}\n",
    "    for sub_element in tree.findall(\".//\" + elm_name):\n",
    "        element_attrib = sub_element.attrib\n",
    "        dict_element_id[element_attrib.get(id_col)] = convert_lxml_to_dict(element_attrib)\n",
    "        unique_key = '-'.join([element_attrib.get(col) for col in unique_columns])\n",
    "        dict_element_unique_col[unique_key] = convert_lxml_to_dict(element_attrib)\n",
    "    return dict_element_id,dict_element_unique_col"
   ]
  },
  {
   "cell_type": "code",
   "execution_count": 20,
   "metadata": {},
   "outputs": [],
   "source": [
    "def get_element_dict(tree, elm_name,id_col='id'):\n",
    "    dict_element_id = {}\n",
    "    for sub_element in tree.findall(\".//\" + elm_name):\n",
    "        element_attrib = sub_element.attrib\n",
    "        dict_element_id[element_attrib.get(id_col)] = convert_lxml_to_dict(element_attrib)\n",
    "    return dict_element_id"
   ]
  },
  {
   "cell_type": "code",
   "execution_count": 77,
   "metadata": {},
   "outputs": [],
   "source": [
    "def get_occ_field_dict(tree):\n",
    "    dict_element = {}\n",
    "    for sub_element in tree.findall('.//occurrence'):\n",
    "        for elm in sub_element.findall('field'):\n",
    "            element_attrib = elm.attrib\n",
    "            dict_attr = convert_lxml_to_dict(element_attrib)\n",
    "            dict_attr['occ_id'] = sub_element.attrib.get('id')\n",
    "            dict_attr['occ_name'] = sub_element.attrib.get('name')\n",
    "            if('name' not in dict_attr):\n",
    "                dict_attr['name'] = dict_attr['relationId']\n",
    "            dict_element[element_attrib.get('id')] = dict_attr\n",
    "    return dict_element"
   ]
  },
  {
   "cell_type": "code",
   "execution_count": 4,
   "metadata": {},
   "outputs": [],
   "source": [
    "def get_mapping_dict(tree):\n",
    "    dict_element_mapping = {}\n",
    "    for sub_element in tree.findall('.//mapping'):\n",
    "        element_attrib = sub_element.attrib\n",
    "        if(element_attrib.get('beFieldId') not in dict_element_mapping.keys()):\n",
    "            dict_element_mapping[element_attrib.get('beFieldId')] = []\n",
    "        dict_element_mapping[element_attrib.get('beFieldId')].append(element_attrib.get('occFieldId'))\n",
    "    return dict_element_mapping"
   ]
  },
  {
   "cell_type": "code",
   "execution_count": 78,
   "metadata": {},
   "outputs": [
    {
     "name": "stdout",
     "output_type": "stream",
     "text": [
      "16309\n"
     ]
    }
   ],
   "source": [
    "dict_cs_befield_id,dict_cs_befield_name = get_element_dict2(tree_cs,'beField',['entityTypeId','name'])\n",
    "dict_gs_befield_id,dict_gs_befield_name = get_element_dict2(tree_gs,'beField',['entityTypeId','name'])\n",
    "dict_cs_type_id = get_element_dict(tree_cs,'entiyType')\n",
    "dict_cs_mapping = get_mapping_dict(tree_cs)\n",
    "dict_gs_mapping = get_mapping_dict(tree_gs)\n",
    "dict_cs_occ_fields = get_occ_field_dict(tree_cs)\n",
    "dict_gs_occ_fields = get_occ_field_dict(tree_gs)\n",
    "print(len(dict_gs_occ_fields))"
   ]
  },
  {
   "cell_type": "code",
   "execution_count": 82,
   "metadata": {},
   "outputs": [
    {
     "name": "stdout",
     "output_type": "stream",
     "text": [
      "1271\n"
     ]
    }
   ],
   "source": [
    "list_comp_cols = ['name','mandatory','multiplicity','class','customSQL']\n",
    "list_result = []\n",
    "for key in dict_cs_befield_id:\n",
    "    dict_attr_cs = dict_cs_befield_id[key]\n",
    "    dict_attr_cmp_cs = {key:dict_attr_cs[key] for key in dict_attr_cs if key in list_comp_cols}\n",
    "    key_unique = dict_attr_cs['entityTypeId']+'-'+dict_attr_cs['name']\n",
    "    \n",
    "    ERR_CODE = None\n",
    "    ERR_DIFF_1 = None\n",
    "    ERR_DIFF_2 = None\n",
    "    CROSS_REF_ID = None\n",
    "    if(dict_attr_cs.get('nameSpace') == 'GSC'):\n",
    "        if(key in dict_gs_befield_id.keys()):\n",
    "            dict_attr_gs = dict_gs_befield_id[key]\n",
    "            dict_attr_cmp_gs = {key:dict_attr_gs[key] for key in dict_attr_gs if key in list_comp_cols}\n",
    "            dict_diff = dict(set(dict_attr_cmp_cs.items())-set(dict_attr_cmp_gs.items()))\n",
    "            mapping_cs = dict_cs_mapping[key] if key in dict_cs_mapping.keys() else []\n",
    "            mapping_gs = dict_gs_mapping[key] if key in dict_gs_mapping.keys() else []\n",
    "            if(len(dict_diff)>0):\n",
    "                ERR_CODE = 'ERR_DATA_MISMATCH'\n",
    "                ERR_DIFF_1 = ', '.join([k + ' = '+dict_attr_cmp_cs[k] for k in dict_diff if k in dict_attr_cmp_cs])\n",
    "                ERR_DIFF_2 = ', '.join([k + ' = '+dict_attr_cmp_gs[k] for k in dict_diff if k in dict_attr_cmp_gs])\n",
    "            if(Counter(set(mapping_cs)) != Counter(set(mapping_gs))):\n",
    "                ERR_CODE = 'ERR_MAPING_MISMATCH'\n",
    "                ERR_DIFF_1 = ','.join([dict_cs_occ_fields[val]['occ_name']+'.'+dict_cs_occ_fields[val]['name'] \n",
    "                              for val in mapping_cs if val in dict_cs_occ_fields])\n",
    "                ERR_DIFF_2 = ','.join([dict_gs_occ_fields[val]['occ_name']+'.'+dict_gs_occ_fields[val]['name'] \n",
    "                              for val in mapping_gs if val in dict_gs_occ_fields])\n",
    "        else:\n",
    "            if(key_unique in dict_gs_befield_name.keys()):\n",
    "                ERR_CODE = 'ERR_ID_NAME_CONFLICT'\n",
    "                CROSS_REF_ID = 'Cross ref id : '+dict_gs_befield_name[key_unique]['id']\n",
    "            else:\n",
    "                ERR_CODE = 'ERR_EXTRA_GS_FIELD'\n",
    "    else:   \n",
    "        if(key_unique in dict_gs_befield_name.keys()):\n",
    "            dict_attr_gs = dict_gs_befield_name[key_unique]\n",
    "            if(dict_attr_gs.get('nameSpace') == 'GSC'):\n",
    "                ERR_CODE = 'ERR_ID_NAME_CONFLICT'\n",
    "                ERR_DETAIL = 'Cross ref id : '+dict_gs_befield_name[key_unique]['id']\n",
    "    if(ERR_CODE != None):\n",
    "        dict_result = {}\n",
    "        gso_type_name = dict_cs_type_id[dict_attr_cs['entityTypeId']]['name']\n",
    "        dict_result['ID'] = dict_attr_cs['id']\n",
    "        dict_result['NAME'] = dict_attr_cs['name']\n",
    "        dict_result['TYPE'] = gso_type_name\n",
    "        dict_result['ERR_CODE'] = ERR_CODE\n",
    "        dict_result['ERR_DIFF_1'] = ERR_DIFF_1\n",
    "        dict_result['ERR_DIFF_2'] = ERR_DIFF_2\n",
    "        dict_result['CROSS_REF_ID'] = CROSS_REF_ID\n",
    "        list_result.append(dict_result)\n",
    "\n",
    "print(len(list_result))"
   ]
  },
  {
   "cell_type": "code",
   "execution_count": 83,
   "metadata": {},
   "outputs": [],
   "source": [
    "df = pd.DataFrame(list_result)\n",
    "df.to_csv(os.path.join(dir_workspace,'field_conflict.csv'))"
   ]
  }
 ],
 "metadata": {
  "kernelspec": {
   "display_name": "Python 3",
   "language": "python",
   "name": "python3"
  },
  "language_info": {
   "codemirror_mode": {
    "name": "ipython",
    "version": 3
   },
   "file_extension": ".py",
   "mimetype": "text/x-python",
   "name": "python",
   "nbconvert_exporter": "python",
   "pygments_lexer": "ipython3",
   "version": "3.7.1rc1"
  }
 },
 "nbformat": 4,
 "nbformat_minor": 2
}
