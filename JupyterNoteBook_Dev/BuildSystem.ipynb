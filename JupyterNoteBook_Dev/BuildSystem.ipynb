{
 "cells": [
  {
   "cell_type": "code",
   "execution_count": 1,
   "metadata": {},
   "outputs": [
    {
     "name": "stdout",
     "output_type": "stream",
     "text": [
      "D:\\GIT_Repositories\\DevFactory\\JupyterNoteBook_Dev\\workspace_BuildSystem\n"
     ]
    }
   ],
   "source": [
    "from lxml import etree as ET\n",
    "import os.path\n",
    "from os import path\n",
    "import shutil\n",
    "import zipfile\n",
    "import tarfile\n",
    "\n",
    "dir_workspace = os.path.join(os.getcwd(),'workspace_BuildSystem')\n",
    "print(dir_workspace)"
   ]
  },
  {
   "cell_type": "markdown",
   "metadata": {},
   "source": [
    "#### Helper Function's  ####\n",
    "* get_package_tar_name_and_version - to get the package tar name and version by parsing package description\n",
    "* make_tarfile - to make tar file of given directory\n",
    "* set_package_name - set the package name in package description xml"
   ]
  },
  {
   "cell_type": "code",
   "execution_count": 2,
   "metadata": {},
   "outputs": [],
   "source": [
    "def get_package_tar_name_and_version(file_package_desc):\n",
    "    tree = ET.parse(file_package_desc)\n",
    "    str_package_file_name = [elm_file.attrib['path'] for elm_file in tree.findall('.//Content/File') \n",
    "                             if elm_file.attrib['type'] == 'Package'][0]\n",
    "    str_package_version = [elm_package.attrib['version'] for elm_package in tree.findall('.//Package')][0] \n",
    "    return str_package_file_name,str_package_version\n",
    "\n",
    "def make_tarfile(output_filename, dir_source,exclude_parent=False):\n",
    "    with tarfile.open(output_filename, \"w:gz\") as tar:\n",
    "        if(exclude_parent):\n",
    "            for f in os.listdir(dir_source):\n",
    "                file_path = os.path.join(dir_source,f)\n",
    "                tar.add(file_path,arcname=os.path.basename(file_path))\n",
    "        else:\n",
    "            tar.add(dir_source,arcname=os.path.basename(dir_source))\n",
    "            \n",
    "def set_package_name(file_package_desc,package_name):\n",
    "    tree = ET.parse(file_package_desc)\n",
    "    tree.find('Package').attrib['name'] = package_name\n",
    "    root = tree.getroot()    \n",
    "    tree.write(file_package_desc)"
   ]
  },
  {
   "cell_type": "markdown",
   "metadata": {},
   "source": [
    "#### Main Function : split_config ####\n",
    "* Read configuration xml file and split into multiple text files of fields"
   ]
  },
  {
   "cell_type": "code",
   "execution_count": 3,
   "metadata": {},
   "outputs": [],
   "source": [
    "def split_config(file_config,dir_out):\n",
    "    dict_config = {}\n",
    "    with open(file_config, 'r') as content_file:\n",
    "        content = content_file.read()\n",
    "    dict_fields = {}\n",
    "    tree = ET.fromstring(content)\n",
    "    for elm_pkg in tree.findall('.//package'):\n",
    "        list_config_part = []\n",
    "        for elm_file in elm_pkg.findall('file'):\n",
    "            dict_config_part = {}\n",
    "            file_name = elm_pkg.attrib['name']+ '_' + elm_file.attrib['name'].replace('.mdx','').replace('*','all')+'_fields.txt'\n",
    "            list_fields = [elm_file.attrib['name'] for elm_file in elm_file.findall('field')]\n",
    "            str_fields = '\\n'.join(list_fields)\n",
    "            dict_fields[file_name]=str_fields\n",
    "            dict_config_part['mdx'] = elm_file.attrib['name']\n",
    "            dict_config_part['config'] = file_name\n",
    "            list_config_part.append(dict_config_part)\n",
    "        dict_config[elm_pkg.attrib['name']]=list_config_part \n",
    "        \n",
    "    for file_name in dict_fields:\n",
    "        path = os.path.join(dir_out, file_name)\n",
    "        with open(path, 'w') as f:\n",
    "            f.write(dict_fields[file_name])\n",
    "        print('Processed file '+file_name)\n",
    "    return dict_config"
   ]
  },
  {
   "cell_type": "markdown",
   "metadata": {},
   "source": [
    "#### Main Function : extract_package ####\n",
    "* Extract given package into directory"
   ]
  },
  {
   "cell_type": "code",
   "execution_count": 4,
   "metadata": {},
   "outputs": [],
   "source": [
    "def extract_package(file_package,dir_extract):\n",
    "    if os.path.exists(dir_extract) and os.path.isdir(dir_extract):\n",
    "        shutil.rmtree(dir_extract)\n",
    "    os.mkdir(dir_extract) \n",
    "\n",
    "    file_package_target = os.path.join(dir_extract,os.path.basename(file_package))\n",
    "    shutil.copy(file_package,dir_extract)\n",
    "    with zipfile.ZipFile(file_package_target, 'r') as zip_ref:\n",
    "        zip_ref.extractall(dir_extract)\n",
    "        \n",
    "    # Removing unwanted files \n",
    "    os.remove(file_package_target)\n",
    "    os.remove(os.path.join(dir_extract,'UsedFieldsReports.tar.gz'))\n",
    "    os.remove(os.path.join(dir_extract,'MappingReports.tar.gz'))\n",
    "    \n",
    "    # Creating required directory\n",
    "    os.mkdir(os.path.join(dir_extract,'UsedFieldsReports'))\n",
    "    os.mkdir(os.path.join(dir_extract,'MappingReports'))\n",
    "    \n",
    "    os.mkdir(os.path.join(dir_extract,'content'))\n",
    "    file_package_desc = os.path.join(dir_extract,'PackageDescription.xml')\n",
    "    package_tar_name,package_version = get_package_tar_name_and_version(file_package_desc)\n",
    "    file_tar = os.path.join(dir_extract,package_tar_name)\n",
    "    tar = tarfile.open(os.path.join(dir_extract,file_tar))\n",
    "    tar.extractall(os.path.join(dir_extract,'content')) \n",
    "    tar.close()\n",
    "    print('Package extracted successfully')"
   ]
  },
  {
   "cell_type": "markdown",
   "metadata": {},
   "source": [
    "#### Main Function : build_package ####\n",
    "* To build the package with the content of given directory and package name"
   ]
  },
  {
   "cell_type": "code",
   "execution_count": 5,
   "metadata": {},
   "outputs": [],
   "source": [
    "def build_package(dir_source,dir_out,package_name):\n",
    "    # Tar Used Field Report\n",
    "    dir_used_field_report = os.path.join(dir_source,'UsedFieldsReports')\n",
    "    make_tarfile(os.path.join(dir_source,'UsedFieldsReports.tar.gz'),dir_used_field_report)\n",
    "    shutil.rmtree(dir_used_field_report)\n",
    "    \n",
    "    # Tar Mapping Report\n",
    "    dir_mapping_report = os.path.join(dir_source,'MappingReports')\n",
    "    make_tarfile(os.path.join(dir_source,'MappingReports.tar.gz'),dir_mapping_report)\n",
    "    shutil.rmtree(dir_mapping_report)\n",
    "    \n",
    "    # Fetching attributes from Package Description\n",
    "    file_package_desc = os.path.join(dir_source,'PackageDescription.xml')\n",
    "    package_tar_name,package_version = get_package_tar_name_and_version(file_package_desc)\n",
    "    package_zip_name = 'Full_'+package_version.replace('.','_')+'_'+package_name.replace(' ','_')+'.zip'\n",
    "    file_package = os.path.join(dir_out,package_zip_name)\n",
    "    \n",
    "    # Set the package name\n",
    "    set_package_name(file_package_desc,package_name)\n",
    "    \n",
    "    # Tar Mapping Content  \n",
    "    dir_content = os.path.join(dir_source,'content')\n",
    "    make_tarfile(os.path.join(dir_source,package_tar_name),dir_content,exclude_parent=True)\n",
    "    shutil.rmtree(dir_content)\n",
    "    \n",
    "    shutil.make_archive(file_package,'zip',dir_source)\n",
    "    print('Package built successfully')"
   ]
  },
  {
   "cell_type": "markdown",
   "metadata": {},
   "source": [
    "##### Unit Testing ####"
   ]
  },
  {
   "cell_type": "code",
   "execution_count": 6,
   "metadata": {},
   "outputs": [
    {
     "name": "stdout",
     "output_type": "stream",
     "text": [
      "Processed file Bloomberg_DL_End_of_Day_Pricing_R01_BBCorpGovtConvEPX_fields.txt\n",
      "Processed file Bloomberg_DL_End_of_Day_Pricing_R01_BBCorpGovtConvPfdPricing_fields.txt\n",
      "Processed file Bloomberg_DL_End_of_Day_Pricing_R02_all_fields.txt\n"
     ]
    },
    {
     "data": {
      "text/plain": [
       "{'Bloomberg_DL_End_of_Day_Pricing_R01': [{'mdx': 'BBCorpGovtConvEPX.mdx',\n",
       "   'config': 'Bloomberg_DL_End_of_Day_Pricing_R01_BBCorpGovtConvEPX_fields.txt'},\n",
       "  {'mdx': 'BBCorpGovtConvPfdPricing.mdx',\n",
       "   'config': 'Bloomberg_DL_End_of_Day_Pricing_R01_BBCorpGovtConvPfdPricing_fields.txt'}],\n",
       " 'Bloomberg_DL_End_of_Day_Pricing_R02': [{'mdx': '*.mdx',\n",
       "   'config': 'Bloomberg_DL_End_of_Day_Pricing_R02_all_fields.txt'}]}"
      ]
     },
     "execution_count": 6,
     "metadata": {},
     "output_type": "execute_result"
    }
   ],
   "source": [
    "file_build_config = os.path.join(dir_workspace,'build_configuration.xml')\n",
    "dict_config = split_config(file_build_config,dir_workspace)\n",
    "dict_config"
   ]
  },
  {
   "cell_type": "code",
   "execution_count": 7,
   "metadata": {},
   "outputs": [
    {
     "name": "stdout",
     "output_type": "stream",
     "text": [
      "Package extracted successfully\n"
     ]
    }
   ],
   "source": [
    "dir_temp = os.path.join(dir_workspace,'temp')\n",
    "file_package = os.path.join(dir_workspace,'Full_8_99_79_0_Bloomberg_DL_Global_Equity.zip')\n",
    "extract_package(file_package,dir_temp)"
   ]
  },
  {
   "cell_type": "code",
   "execution_count": 8,
   "metadata": {},
   "outputs": [
    {
     "name": "stdout",
     "output_type": "stream",
     "text": [
      "Package built successfully\n"
     ]
    }
   ],
   "source": [
    "dir_temp = os.path.join(dir_workspace,'temp')\n",
    "dir_out =  os.path.join(dir_workspace,'out')\n",
    "build_package(dir_temp,dir_out,'Bloomberg DL Global Equity R01')"
   ]
  }
 ],
 "metadata": {
  "kernelspec": {
   "display_name": "Python 3",
   "language": "python",
   "name": "python3"
  },
  "language_info": {
   "codemirror_mode": {
    "name": "ipython",
    "version": 3
   },
   "file_extension": ".py",
   "mimetype": "text/x-python",
   "name": "python",
   "nbconvert_exporter": "python",
   "pygments_lexer": "ipython3",
   "version": "3.7.3"
  }
 },
 "nbformat": 4,
 "nbformat_minor": 2
}
