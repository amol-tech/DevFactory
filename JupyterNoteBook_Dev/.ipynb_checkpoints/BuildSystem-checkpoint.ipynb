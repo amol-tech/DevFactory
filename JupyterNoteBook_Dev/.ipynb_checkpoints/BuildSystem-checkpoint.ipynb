{
 "cells": [
  {
   "cell_type": "code",
   "execution_count": 1,
   "metadata": {},
   "outputs": [
    {
     "name": "stdout",
     "output_type": "stream",
     "text": [
      "D:\\Development\\JupeterNoteBooks\\workspace_slim_build\n"
     ]
    }
   ],
   "source": [
    "from lxml import etree as ET\n",
    "import os.path\n",
    "from os import path\n",
    "import shutil\n",
    "import zipfile\n",
    "import tarfile\n",
    "\n",
    "dir_workspace = os.path.join(os.getcwd(),'workspace_slim_build')\n",
    "print(dir_workspace)"
   ]
  },
  {
   "cell_type": "code",
   "execution_count": 20,
   "metadata": {},
   "outputs": [],
   "source": [
    "def get_package_tar_name(file_package_desc):\n",
    "    with open(file_package_desc, 'r') as content_file:\n",
    "        content = content_file.read()\n",
    "    tree = ET.fromstring(content)\n",
    "    str_package_file_name = [elm_pkg.attrib['path'] for elm_pkg in tree.findall('.//Content/File') \n",
    "                             if elm_pkg.attrib['type'] == 'Package'][0]\n",
    "    str_package_version = [elm_pkg.attrib['version'] for elm_package in tree.findall('.//Package')][0] \n",
    "    return str_package_file_name,str_package_version"
   ]
  },
  {
   "cell_type": "code",
   "execution_count": null,
   "metadata": {},
   "outputs": [],
   "source": []
  },
  {
   "cell_type": "code",
   "execution_count": 3,
   "metadata": {},
   "outputs": [],
   "source": [
    "def split_config(file_config,dir_out,package_name):\n",
    "    with open(file_config, 'r') as content_file:\n",
    "        content = content_file.read()\n",
    "    dict_fields = {}\n",
    "    tree = ET.fromstring(content)\n",
    "    for elm_pkg in tree.findall('.//package'):\n",
    "        if(elm_pkg.attrib['name'] == package_name):\n",
    "            for elm_file in elm_pkg.findall('file'):\n",
    "                file_name = elm_file.attrib['name'].replace('.mdx','').replace('*','all')+'_fields.txt'\n",
    "                list_fields = [elm_file.attrib['name'] for elm_file in elm_file.findall('field')]\n",
    "                str_fields = '\\n'.join(list_fields)\n",
    "                dict_fields[file_name]=str_fields\n",
    "    \n",
    "    for file_name in dict_fields:\n",
    "        path = os.path.join(dir_out, file_name)\n",
    "        with open(path, 'w') as f:\n",
    "            f.write(dict_fields[file_name])\n",
    "        print('Processed file '+file_name)\n",
    "    return"
   ]
  },
  {
   "cell_type": "code",
   "execution_count": 4,
   "metadata": {},
   "outputs": [],
   "source": [
    "def extract_package(file_package,dir_extract):\n",
    "    if os.path.exists(dir_extract) and os.path.isdir(dir_extract):\n",
    "        shutil.rmtree(dir_extract)\n",
    "    os.mkdir(dir_extract) \n",
    "\n",
    "    file_package_target = os.path.join(dir_extract,os.path.basename(file_package))\n",
    "    shutil.copy(file_package,dir_extract)\n",
    "    with zipfile.ZipFile(file_package_target, 'r') as zip_ref:\n",
    "        zip_ref.extractall(dir_extract)\n",
    "        \n",
    "    # Removing unwanted files \n",
    "    os.remove(file_package_target)\n",
    "    os.remove(os.path.join(dir_extract,'UsedFieldsReports.tar.gz'))\n",
    "    os.remove(os.path.join(dir_extract,'MappingReports.tar.gz'))\n",
    "    \n",
    "    # Creating required directory\n",
    "    os.mkdir(os.path.join(dir_extract,'UsedFieldsReports'))\n",
    "    os.mkdir(os.path.join(dir_extract,'MappingReports'))\n",
    "    \n",
    "    os.mkdir(os.path.join(dir_extract,'content'))\n",
    "    file_package_desc = os.path.join(dir_extract,'PackageDescription.xml')\n",
    "    file_tar = os.path.join(dir_extract,get_package_tar_name(file_package_desc))\n",
    "    tar = tarfile.open(os.path.join(dir_extract,file_tar))\n",
    "    tar.extractall(os.path.join(dir_extract,'content')) \n",
    "    tar.close()\n",
    "    print('Package extracted successfully')"
   ]
  },
  {
   "cell_type": "code",
   "execution_count": 5,
   "metadata": {},
   "outputs": [],
   "source": [
    "def make_tarfile(output_filename, dir_source,exclude_parent=False):\n",
    "    with tarfile.open(output_filename, \"w:gz\") as tar:\n",
    "        if(exclude_parent):\n",
    "            for f in os.listdir(dir_source):\n",
    "                file_path = os.path.join(dir_source,f)\n",
    "                tar.add(file_path,arcname=os.path.basename(file_path))\n",
    "        else:\n",
    "            tar.add(dir_source,arcname=os.path.basename(dir_source))"
   ]
  },
  {
   "cell_type": "code",
   "execution_count": 17,
   "metadata": {},
   "outputs": [],
   "source": [
    "def build_package(dir_source,dir_out,package_name):\n",
    "    # Tar Used Field Report\n",
    "    dir_used_field_report = os.path.join(dir_source,'UsedFieldsReports')\n",
    "    make_tarfile(os.path.join(dir_source,'UsedFieldsReports.tar.gz'),dir_used_field_report)\n",
    "    shutil.rmtree(dir_used_field_report)\n",
    "    \n",
    "    # Tar Mapping Report\n",
    "    dir_mapping_report = os.path.join(dir_source,'MappingReports')\n",
    "    make_tarfile(os.path.join(dir_source,'MappingReports.tar.gz'),dir_mapping_report)\n",
    "    shutil.rmtree(dir_mapping_report)\n",
    "    \n",
    "    # Fetching attributes from Package Description\n",
    "    file_package_desc = os.path.join(dir_source,'PackageDescription.xml')\n",
    "    package_tar_name,package_version = get_package_tar_name(file_package_desc)\n",
    "    package_zip_name = 'Full_'+package_version.replace('.','_')+'_'+package_name+'.zip'\n",
    "    file_package = os.path.join(dir_out,package_zip_name)\n",
    "    \n",
    "    # Tar Mapping Content  \n",
    "    dir_content = os.path.join(dir_source,'content')\n",
    "    make_tarfile(os.path.join(dir_source,package_tar_name),dir_content,exclude_parent=True)\n",
    "    shutil.rmtree(dir_content)\n",
    "    \n",
    "    shutil.make_archive(file_package,'zip',dir_source)\n",
    "    print('Package built successfully')"
   ]
  },
  {
   "cell_type": "code",
   "execution_count": 7,
   "metadata": {},
   "outputs": [
    {
     "name": "stdout",
     "output_type": "stream",
     "text": [
      "Processed file BBCorpGovtConvEPX_fields.txt\n",
      "Processed file BBCorpGovtConvPfdPricing_fields.txt\n"
     ]
    }
   ],
   "source": [
    "file_build_config = os.path.join(dir_workspace,'build_configuration.xml')\n",
    "split_config(file_build_config,dir_workspace,'Bloomberg_DL_End_of_Day_Pricing_R01')"
   ]
  },
  {
   "cell_type": "code",
   "execution_count": 18,
   "metadata": {},
   "outputs": [
    {
     "name": "stdout",
     "output_type": "stream",
     "text": [
      "Package extracted successfully\n"
     ]
    }
   ],
   "source": [
    "dir_temp = os.path.join(dir_workspace,'temp')\n",
    "file_package = os.path.join(dir_workspace,'Full_8_99_79_0_Bloomberg_DL_Global_Equity.zip')\n",
    "extract_package(file_package,dir_temp)"
   ]
  },
  {
   "cell_type": "code",
   "execution_count": 19,
   "metadata": {},
   "outputs": [
    {
     "name": "stdout",
     "output_type": "stream",
     "text": [
      "Package built successfully\n"
     ]
    }
   ],
   "source": [
    "dir_temp = os.path.join(dir_workspace,'temp')\n",
    "file_package =  os.path.join(dir_workspace,'out/Full_8_99_79_0_Bloomberg_DL_Global_Equity')\n",
    "build_package(dir_temp,file_package)"
   ]
  }
 ],
 "metadata": {
  "kernelspec": {
   "display_name": "Python 3",
   "language": "python",
   "name": "python3"
  },
  "language_info": {
   "codemirror_mode": {
    "name": "ipython",
    "version": 3
   },
   "file_extension": ".py",
   "mimetype": "text/x-python",
   "name": "python",
   "nbconvert_exporter": "python",
   "pygments_lexer": "ipython3",
   "version": "3.7.1rc1"
  }
 },
 "nbformat": 4,
 "nbformat_minor": 2
}
