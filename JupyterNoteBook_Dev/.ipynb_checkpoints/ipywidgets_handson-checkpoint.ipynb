{
 "cells": [
  {
   "cell_type": "code",
   "execution_count": 1,
   "metadata": {},
   "outputs": [],
   "source": [
    "import ipywidgets as widgets\n",
    "from ipytree import Tree, Node\n",
    "from ipywidgets import interact, interactive, fixed, interact_manual, GridspecLayout, Layout, HBox, VBox"
   ]
  },
  {
   "cell_type": "code",
   "execution_count": 8,
   "metadata": {},
   "outputs": [
    {
     "data": {
      "application/vnd.jupyter.widget-view+json": {
       "model_id": "5df9c854363d443d9108a4c43fd5cbfc",
       "version_major": 2,
       "version_minor": 0
      },
      "text/plain": [
       "Dropdown(description='Country:', options=('USA', 'Pakistan', 'India', 'China', 'Sri Lanka'), value='USA')"
      ]
     },
     "metadata": {},
     "output_type": "display_data"
    }
   ],
   "source": [
    "a = widgets.Dropdown(options=['USA', 'Pakistan', 'India', 'China', 'Sri Lanka'], value=  'USA', description='Country:')\n",
    "a"
   ]
  },
  {
   "cell_type": "code",
   "execution_count": 5,
   "metadata": {},
   "outputs": [
    {
     "data": {
      "application/vnd.jupyter.widget-view+json": {
       "model_id": "c714e08eca8d4541bf2081d20976e6a2",
       "version_major": 2,
       "version_minor": 0
      },
      "text/plain": [
       "Text(value='', description='Address:', placeholder='Type Here')"
      ]
     },
     "metadata": {},
     "output_type": "display_data"
    }
   ],
   "source": [
    "widgets.Text(placeholder='Type Here', description='Address:', disabled=False)"
   ]
  },
  {
   "cell_type": "code",
   "execution_count": 9,
   "metadata": {},
   "outputs": [
    {
     "data": {
      "application/vnd.jupyter.widget-view+json": {
       "model_id": "161d6fea7bc942c48cac9fdf4e8e30e0",
       "version_major": 2,
       "version_minor": 0
      },
      "text/plain": [
       "IntProgress(value=4, bar_style='info', description='Progress:', max=10)"
      ]
     },
     "metadata": {},
     "output_type": "display_data"
    }
   ],
   "source": [
    "widgets.IntProgress( value=4, min=0, max=10, step=1,description='Progress:', bar_style='info',orientation='horizontal')"
   ]
  },
  {
   "cell_type": "code",
   "execution_count": 4,
   "metadata": {},
   "outputs": [
    {
     "data": {
      "application/vnd.jupyter.widget-view+json": {
       "model_id": "24ad9204726c4650ae6f955f2967d616",
       "version_major": 2,
       "version_minor": 0
      },
      "text/plain": [
       "Tree(nodes=(Node(icon='archive', icon_style='warning', name='root'), Node(icon='info', icon_style='info', name…"
      ]
     },
     "metadata": {},
     "output_type": "display_data"
    }
   ],
   "source": [
    "tree5 = Tree()\n",
    "\n",
    "tree5.add_node(Node(\"root\", icon=\"archive\", icon_style=\"warning\"))\n",
    "tree5.add_node(Node(\"media\", icon=\"info\", icon_style=\"info\"))\n",
    "tree5.add_node(Node(\"local\", icon=\"warning\", icon_style=\"success\"))\n",
    "tree5.add_node(Node(\"home\", \n",
    "                    [Node(\"Desktop\", [Node(\"File1\", icon=\"copy\", icon_style=\"warning\"), \n",
    "                                      Node(\"File2\", icon=\"plus\", icon_style=\"success\")], icon=\"save\", icon_style=\"info\"), \n",
    "                     Node(\"Documents\", icon=\"cut\", icon_style=\"danger\")], icon=\"home\", icon_style=\"success\"))\n",
    "\n",
    "display(tree5)\n"
   ]
  },
  {
   "cell_type": "code",
   "execution_count": null,
   "metadata": {},
   "outputs": [],
   "source": [
    "def f(x):\n",
    "    return x\n",
    "s = interact(f, x=10);\n",
    "print(s)"
   ]
  }
 ],
 "metadata": {
  "kernelspec": {
   "display_name": "Python 3",
   "language": "python",
   "name": "python3"
  },
  "language_info": {
   "codemirror_mode": {
    "name": "ipython",
    "version": 3
   },
   "file_extension": ".py",
   "mimetype": "text/x-python",
   "name": "python",
   "nbconvert_exporter": "python",
   "pygments_lexer": "ipython3",
   "version": "3.7.1rc1"
  }
 },
 "nbformat": 4,
 "nbformat_minor": 2
}
