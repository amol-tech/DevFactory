{
 "cells": [
  {
   "cell_type": "code",
   "execution_count": 4,
   "metadata": {},
   "outputs": [],
   "source": [
    "import os, sys\n",
    "import subprocess\n",
    "from subprocess import Popen, PIPE,STDOUT\n",
    "import shutil\n",
    "import zipfile"
   ]
  },
  {
   "cell_type": "code",
   "execution_count": 5,
   "metadata": {},
   "outputs": [],
   "source": [
    "# Directory Structure\n",
    "dir_workspace = os.path.join(os.getcwd(),'workspace_MTAD')\n",
    "dir_input = os.path.join(dir_workspace,'input')\n",
    "dir_mapping = os.path.join(dir_workspace,'mapping')\n",
    "dir_splitter = os.path.join(dir_workspace,'Splitters')\n",
    "file_mapper_package = 'D:\\FileServer\\Dump\\Full_8_7_2_08_GSO_Mapper.zip'\n",
    "\n",
    "#file_conn_detail =  os.path.join(dir_workspace,'connectionDetail.xml')\n",
    "\n",
    "# Input\n",
    "\n",
    "#file_translation_bat = os.path.join(os.path.join(dir_temp,'commandline'),'mapping-translations.bat')"
   ]
  },
  {
   "cell_type": "code",
   "execution_count": 18,
   "metadata": {},
   "outputs": [],
   "source": [
    "def configure_mapper(file_mapper_package):\n",
    "    #Clean up existing setup\n",
    "    if os.path.exists('lib') and os.path.isdir('lib'):\n",
    "        shutil.rmtree('lib')\n",
    "    files_jar = [os.path.join(os.getcwd(),file) for file in os.listdir() if 'GSO_Mapper_' in file]\n",
    "    for f in files_jar:\n",
    "        os.remove(f)   \n",
    "\n",
    "    # Extracting GSO Mapper\n",
    "    dir_temp = os.path.join(dir_workspace,'temp')\n",
    "    if os.path.exists(dir_temp) and os.path.isdir(dir_temp):\n",
    "        shutil.rmtree(dir_temp)\n",
    "    os.mkdir(dir_temp)\n",
    "\n",
    "    shutil.copy(file_mapper_package,dir_temp)\n",
    "    with zipfile.ZipFile(file_mapper_package, 'r') as zip_ref:\n",
    "        zip_ref.extractall(dir_temp)\n",
    "\n",
    "    with zipfile.ZipFile(os.path.join(dir_temp,'GSOMapper.zip'), 'r') as zip_ref:\n",
    "        zip_ref.extractall(dir_temp)\n",
    "\n",
    "    # Copy lib\n",
    "    file_mapper_jar = [file for file in os.listdir(dir_temp) if 'GSO_Mapper_' in file][0]\n",
    "    shutil.copytree(os.path.join(dir_temp,'lib'),'lib')\n",
    "\n",
    "    # Copy Jar\n",
    "    file_mapper_jar = [file for file in os.listdir(dir_temp) if 'GSO_Mapper_' in file][0]\n",
    "    shutil.copy(os.path.join(dir_temp,file_mapper_jar),os.getcwd())\n",
    "\n",
    "    #Copy workspace\n",
    "    if not os.path.exists('workspace'):\n",
    "        os.mkdir('workspace')\n",
    "    shutil.copy(os.path.join(dir_workspace,'connectionDetail.xml'),'workspace')"
   ]
  },
  {
   "cell_type": "code",
   "execution_count": 19,
   "metadata": {},
   "outputs": [],
   "source": [
    "configure_mapper(file_mapper_package)"
   ]
  },
  {
   "cell_type": "code",
   "execution_count": 20,
   "metadata": {},
   "outputs": [
    {
     "name": "stdout",
     "output_type": "stream",
     "text": [
      "0\n"
     ]
    }
   ],
   "source": [
    "file_mapping = os.path.join(dir_mapping,'BBGlobalEquity_Unit.mdx')\n",
    "file_input = os.path.join(dir_input,'BBGlobalEquityInput_csv.txt')\n",
    "file_splitter = os.path.join(dir_splitter,'LineByLine.xml')\n",
    "process = subprocess.call(['java', '-Xms256m', '-Xmx1024m', '-cp','*',\n",
    "                            'core.service.commandline.MappingTranslationServiceCommandLine', \n",
    "                            file_mapping,file_input,file_splitter])\n",
    "print(process)"
   ]
  },
  {
   "cell_type": "code",
   "execution_count": null,
   "metadata": {},
   "outputs": [],
   "source": [
    "print(file_translate)\n",
    "file_mapping = os.path.join(dir_mapping,'BBGlobalEquity_Unit.mdx')\n",
    "file_input = os.path.join(dir_input,'BBGlobalEquityInput_csv.txt')\n",
    "file_splitter = os.path.join(dir_splitter,'LineByLine.xml')\n",
    "process = subprocess.call(['java', '-Xms256m', '-Xmx1024m', '-cp','*',\n",
    "                 'core.service.commandline.MappingTranslationServiceCommandLine', \n",
    "                 'C:/Release/GSOMapper/workspace/BBGlobalEquity_Unit.mdx',\n",
    "                 'C:/Release/GSOMapper/workspace/BBGlobalEquityInput_csv.txt',\n",
    "                 'C:/Release/GSOMapper/workspace/Splitters/LineByLine.xml'])\n",
    "print(process)"
   ]
  },
  {
   "cell_type": "code",
   "execution_count": null,
   "metadata": {},
   "outputs": [],
   "source": [
    "proc = Popen([file_cmd], shell=False)"
   ]
  },
  {
   "cell_type": "code",
   "execution_count": null,
   "metadata": {},
   "outputs": [],
   "source": [
    "AutomationSuite suite\n",
    "result = suite.run('','','')\n",
    "assert('1235',result.get_xml_value('\\','TICKER'))"
   ]
  }
 ],
 "metadata": {
  "kernelspec": {
   "display_name": "Python 3",
   "language": "python",
   "name": "python3"
  },
  "language_info": {
   "codemirror_mode": {
    "name": "ipython",
    "version": 3
   },
   "file_extension": ".py",
   "mimetype": "text/x-python",
   "name": "python",
   "nbconvert_exporter": "python",
   "pygments_lexer": "ipython3",
   "version": "3.7.1rc1"
  }
 },
 "nbformat": 4,
 "nbformat_minor": 2
}
